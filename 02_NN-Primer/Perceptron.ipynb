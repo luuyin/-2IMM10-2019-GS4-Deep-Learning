{
  "nbformat": 4,
  "nbformat_minor": 0,
  "metadata": {
    "anaconda-cloud": {},
    "celltoolbar": "Slideshow",
    "kernelspec": {
      "name": "python3",
      "display_name": "Python 3"
    },
    "colab": {
      "name": "Perceptron.ipynb",
      "provenance": [],
      "collapsed_sections": []
    }
  },
  "cells": [
    {
      "cell_type": "markdown",
      "metadata": {
        "id": "-Ngoxwrl5m4u",
        "colab_type": "text"
      },
      "source": [
        "## Implementation "
      ]
    },
    {
      "cell_type": "code",
      "metadata": {
        "id": "o_lTnyS25m4v",
        "colab_type": "code",
        "colab": {}
      },
      "source": [
        "import tensorflow as tf\n",
        "import numpy as np\n",
        "import matplotlib.pyplot as plt"
      ],
      "execution_count": 0,
      "outputs": []
    },
    {
      "cell_type": "code",
      "metadata": {
        "id": "s1kGp-YF5m4z",
        "colab_type": "code",
        "colab": {}
      },
      "source": [
        "# Training Data\n",
        "train_X = np.asarray([[-0.4, 0.3], [-0.3, -0.1], [-0.2, 0.4], [-0.1, 0.1], [0.1, -0.5], [0.2, -0.9], [0.3, 0.2], [0.4, -0.6]])\n",
        "train_Y = np.asarray([[1], [1], [1], [1], [0], [0], [0], [0]])\n",
        "n_samples = train_X.shape[0]"
      ],
      "execution_count": 0,
      "outputs": []
    },
    {
      "cell_type": "code",
      "metadata": {
        "id": "toNrn-ny5m42",
        "colab_type": "code",
        "outputId": "4fef7a72-1f3f-4329-89b4-f4e82b5510a8",
        "colab": {
          "base_uri": "https://localhost:8080/",
          "height": 187
        }
      },
      "source": [
        "# Parameters\n",
        "learning_rate = 0.1\n",
        "training_epochs = 25\n",
        "display_step = 1\n",
        "\n",
        "# tf Graph Input\n",
        "x = tf.constant(train_X, dtype=tf.float32) # input data\n",
        "y = tf.constant(train_Y, dtype=tf.float32) # lables\n",
        "\n",
        "# Set model weights\n",
        "W = tf.Variable(tf.zeros([2, 1]), name=\"W\")\n",
        "b = tf.Variable(tf.zeros([1]), name=\"b\")\n",
        "\n",
        "# Construct model\n",
        "pred = lambda x: tf.sigmoid(tf.matmul(x, W) + b) # Sigmoid activation\n",
        "\n",
        "# Minimize error using cross entropy\n",
        "def cost(x, y):\n",
        "  return lambda: -tf.reduce_sum(y*tf.math.log(pred(x)) + (1 - y)*tf.math.log(1 - pred(x)))\n",
        "\n",
        "# Gradient Descent\n",
        "opt = tf.keras.optimizers.SGD(learning_rate=learning_rate)\n",
        "\n",
        "# Training cycle\n",
        "for epoch in range(training_epochs):\n",
        "  opt.minimize(cost(x, y), var_list=[W, b])\n",
        "\n",
        "# Test model\n",
        "correct_prediction = tf.equal(pred(x) > 0.5, y == 1)\n",
        "\n",
        "# Calculate accuracy on training data\n",
        "accuracy = tf.reduce_mean(tf.cast(correct_prediction, tf.float32))\n",
        "\n",
        "print (\"predictions:\\n\", pred(x).numpy())\n",
        "print (\"accuracy:\", accuracy.numpy())"
      ],
      "execution_count": 3,
      "outputs": [
        {
          "output_type": "stream",
          "text": [
            "predictions:\n",
            " [[0.81206465]\n",
            " [0.63366175]\n",
            " [0.783129  ]\n",
            " [0.6345943 ]\n",
            " [0.2865792 ]\n",
            " [0.13852677]\n",
            " [0.5023741 ]\n",
            " [0.16245767]]\n",
            "accuracy: 0.875\n"
          ],
          "name": "stdout"
        }
      ]
    },
    {
      "cell_type": "code",
      "metadata": {
        "scrolled": true,
        "id": "RYl_4NKM5m49",
        "colab_type": "code",
        "colab": {
          "base_uri": "https://localhost:8080/",
          "height": 269
        },
        "outputId": "f8d0ee57-6923-4635-fa98-7e404bb1b740"
      },
      "source": [
        "#Graphic display\n",
        "\n",
        "plt.plot(train_X[0:3, 0], train_X[0:3, 1],  'ro', label='class 1')\n",
        "plt.plot(train_X[4:7, 0], train_X[4:7, 1],  'bv', label='class 2')\n",
        "\n",
        "# getting the co-ordinates for the decision boundary\n",
        "plot_x = np.array([min(train_X[:,0]), max(train_X[:,0])])\n",
        "plot_x[0] -= 0.1*(plot_x[1] - plot_x[0])\n",
        "plot_x[1] += 0.1*(plot_x[1] - plot_x[0])\n",
        "plot_y = (-1/W[1][0].numpy()) * (W[0][0].numpy() * plot_x + b[0].numpy())\n",
        "\n",
        "plt.plot(plot_x, plot_y, label='classifier boundary');\n",
        "\n",
        "plt.ylim(-1, 1)\n",
        "plt.xlim(-1, 1)\n",
        "\n",
        "plt.legend();"
      ],
      "execution_count": 4,
      "outputs": [
        {
          "output_type": "display_data",
          "data": {
            "image/png": "[encoded data removed]",
            "text/plain": [
              "<Figure size 432x288 with 1 Axes>"
            ]
          },
          "metadata": {
            "tags": [],
            "needs_background": "light"
          }
        }
      ]
    },
    {
      "cell_type": "code",
      "metadata": {
        "id": "g7prNaw_gaGn",
        "colab_type": "code",
        "colab": {}
      },
      "source": [
        ""
      ],
      "execution_count": 0,
      "outputs": []
    }
  ]
}