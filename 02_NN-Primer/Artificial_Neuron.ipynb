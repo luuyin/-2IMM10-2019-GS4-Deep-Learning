{
  "nbformat": 4,
  "nbformat_minor": 0,
  "metadata": {
    "anaconda-cloud": {},
    "celltoolbar": "Slideshow",
    "kernelspec": {
      "display_name": "Python 3",
      "language": "python",
      "name": "python3"
    },
    "language_info": {
      "codemirror_mode": {
        "name": "ipython",
        "version": 3
      },
      "file_extension": ".py",
      "mimetype": "text/x-python",
      "name": "python",
      "nbconvert_exporter": "python",
      "pygments_lexer": "ipython3",
      "version": "3.7.7"
    },
    "colab": {
      "name": "Artificial Neuron.ipynb",
      "provenance": [],
      "collapsed_sections": []
    }
  },
  "cells": [
    {
      "cell_type": "code",
      "metadata": {
        "id": "X_wokEFcWHU9",
        "colab_type": "code",
        "colab": {}
      },
      "source": [
        "import tensorflow as tf\n",
        "import numpy as np\n",
        "import matplotlib.pyplot as plt"
      ],
      "execution_count": 0,
      "outputs": []
    },
    {
      "cell_type": "code",
      "metadata": {
        "id": "Q9UfxHgaWHVB",
        "colab_type": "code",
        "colab": {}
      },
      "source": [
        "# Parameters\n",
        "learning_rate = 0.01\n",
        "training_epochs = 2000\n",
        "display_step = 100\n",
        "n_samples = 100"
      ],
      "execution_count": 0,
      "outputs": []
    },
    {
      "cell_type": "code",
      "metadata": {
        "id": "3s9t9f5qWHVE",
        "colab_type": "code",
        "colab": {}
      },
      "source": [
        "# Training data, generate using linear model y = alpha*x + beta\n",
        "alpha = -2.0\n",
        "beta = 1.5\n",
        "train_X = np.asarray(np.random.uniform(0, 5, n_samples))\n",
        "train_Y = np.asarray(np.add(np.add(np.multiply(train_X, alpha), beta), np.random.normal(0, 1.5, n_samples)))"
      ],
      "execution_count": 0,
      "outputs": []
    },
    {
      "cell_type": "code",
      "metadata": {
        "id": "aU-3biXYWHVH",
        "colab_type": "code",
        "colab": {}
      },
      "source": [
        "# Input Nodes\n",
        "X = tf.constant(train_X, dtype=tf.float32, name=\"X\")\n",
        "Y = tf.constant(train_Y, dtype=tf.float32, name=\"Y\")\n",
        "\n",
        "# Model parameters\n",
        "W = tf.Variable(0.2, name=\"weight\", dtype=tf.float32) #initialize to random values\n",
        "b = tf.Variable(0.1, name=\"bias\", dtype=tf.float32) #initialize to random values"
      ],
      "execution_count": 0,
      "outputs": []
    },
    {
      "cell_type": "code",
      "metadata": {
        "id": "UHuioJvHWHVK",
        "colab_type": "code",
        "colab": {}
      },
      "source": [
        "# Model definition\n",
        "Y_hat = lambda X: tf.add(tf.multiply(X, W), b)"
      ],
      "execution_count": 0,
      "outputs": []
    },
    {
      "cell_type": "code",
      "metadata": {
        "id": "n5BzFY7LWHVN",
        "colab_type": "code",
        "colab": {}
      },
      "source": [
        "# Loss function\n",
        "    # Mean squared error\n",
        "cost = lambda: tf.reduce_sum(tf.square(Y_hat(X) - Y))/(n_samples)\n",
        "\n",
        "# Optimizer\n",
        "    # Gradient descent\n",
        "optimizer = tf.keras.optimizers.SGD(learning_rate=learning_rate)"
      ],
      "execution_count": 0,
      "outputs": []
    },
    {
      "cell_type": "code",
      "metadata": {
        "id": "02nijgyHWHVT",
        "colab_type": "code",
        "colab": {}
      },
      "source": [
        "# Plot\n",
        "plt.plot(train_X, train_Y, 'ro', label='Original data')\n",
        "plt.plot(train_X, Y_hat(train_X), label='Fitted line')\n",
        "plt.legend();"
      ],
      "execution_count": 0,
      "outputs": []
    },
    {
      "cell_type": "code",
      "metadata": {
        "id": "bRsYA3mqlDRl",
        "colab_type": "code",
        "colab": {}
      },
      "source": [
        "# Cost before training\n",
        "cost().numpy()"
      ],
      "execution_count": 0,
      "outputs": []
    },
    {
      "cell_type": "code",
      "metadata": {
        "id": "pbZo64hFbUmC",
        "colab_type": "code",
        "colab": {}
      },
      "source": [
        "# Fit all training data\n",
        "for epoch in range(training_epochs):\n",
        "    optimizer.minimize(cost, var_list=[W, b])\n",
        "    c = cost().numpy()\n",
        "\n",
        "    #Display logs per epoch step\n",
        "    if (epoch < 10) or ((epoch+1) % display_step == 0):\n",
        "        print(\"Epoch\", '%04d:' % (epoch+1), \"cost=\", \"{:.9f}\".format(c), \\\n",
        "            \"W=\", W.numpy(), \"b=\", b.numpy())\n",
        "\n",
        "print(\"Optimization Finished!\")\n",
        "print(\"Training cost=\", c, \"W=\", W.numpy(), \"b=\", b.numpy(), '\\n')\n",
        "\n",
        "#Graphic display\n",
        "plt.plot(train_X, train_Y, 'ro', label='Original data')\n",
        "plt.plot(train_X, Y_hat(train_X), label='Fitted line')\n",
        "plt.legend();"
      ],
      "execution_count": 0,
      "outputs": []
    },
    {
      "cell_type": "code",
      "metadata": {
        "id": "218lLtI910O7",
        "colab_type": "code",
        "colab": {}
      },
      "source": [
        "# Compare learned parameter to the true values\n",
        "print(\"alpha: true=\", alpha, \"learned=\",W.numpy())\n",
        "print(\"beta: true=\", beta, \"learned=\", b.numpy())"
      ],
      "execution_count": 0,
      "outputs": []
    },
    {
      "cell_type": "code",
      "metadata": {
        "id": "cTAQ-mc2OjYF",
        "colab_type": "code",
        "colab": {}
      },
      "source": [
        ""
      ],
      "execution_count": 0,
      "outputs": []
    }
  ]
}