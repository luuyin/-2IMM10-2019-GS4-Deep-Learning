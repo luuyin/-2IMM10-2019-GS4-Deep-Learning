{
 "cells": [
  {
   "cell_type": "markdown",
   "metadata": {
    "colab_type": "text",
    "id": "uj4T8PEHGbMF"
   },
   "source": [
    "# Assignment 2"
   ]
  },
  {
   "cell_type": "markdown",
   "metadata": {
    "colab_type": "text",
    "id": "p-gkaM1tCThc"
   },
   "source": [
    "***\n",
    "***\n",
    "## Question 2: Triplet networks & one-shot learning (10pt)\n",
    "\n",
    "In practice 4b.4, we train a Siamese network for one-shot learning task on the Omniglot dataset.  In this assignment, we will work on the same data set with the same task but extend it to triplet networks, we will also compare our model performance under different triplet selection method. The assignment contains the following 4 tasks\n"
   ]
  },
  {
   "cell_type": "markdown",
   "metadata": {
    "colab_type": "text",
    "id": "ZqdQgnI5AuN5"
   },
   "source": [
    "### Import packages and mount data,\n",
    "Before everything, we need to import packages and mount data,\n",
    "*HINT: you could use the dataset in practice 4b.4 directly*"
   ]
  },
  {
   "cell_type": "code",
   "execution_count": 0,
   "metadata": {
    "colab": {},
    "colab_type": "code",
    "id": "8QdDDUEIAuN6"
   },
   "outputs": [],
   "source": [
    "import tensorflow as tf\n",
    "from tensorflow.keras import backend as K\n",
    "from tensorflow.keras.layers import Input, Conv2D, Lambda, Dense, Flatten, MaxPooling2D, Dropout,Concatenate, BatchNormalization\n",
    "from tensorflow.keras.models import Model, Sequential\n",
    "from tensorflow.keras.regularizers import l2\n",
    "from tensorflow.keras.optimizers import Adam\n",
    "from tensorflow.keras.losses import binary_crossentropy\n",
    "import numpy as np\n",
    "import os\n",
    "import pickle\n",
    "import matplotlib.pyplot as plt\n",
    "from sklearn.utils import shuffle"
   ]
  },
  {
   "cell_type": "code",
   "execution_count": null,
   "metadata": {
    "colab": {
     "base_uri": "https://localhost:8080/",
     "height": 127
    },
    "colab_type": "code",
    "executionInfo": {
     "elapsed": 13298,
     "status": "ok",
     "timestamp": 1589315933166,
     "user": {
      "displayName": "Deep Learning",
      "photoUrl": "",
      "userId": "16058886267550359459"
     },
     "user_tz": -120
    },
    "id": "YzhGJvL2A7aL",
    "outputId": "4dd76ca1-372a-4dd4-8b97-036af97426aa"
   },
   "outputs": [],
   "source": [
    "# mount the data needed to drive folder so we can use them in colab, see the data download link in Practical 4a.1\n",
    "from google.colab import drive\n",
    "!mkdir drive\n",
    "drive.mount('drive')"
   ]
  },
  {
   "cell_type": "code",
   "execution_count": 4,
   "metadata": {
    "colab": {
     "base_uri": "https://localhost:8080/",
     "height": 163
    },
    "colab_type": "code",
    "executionInfo": {
     "elapsed": 8025,
     "status": "ok",
     "timestamp": 1589315937968,
     "user": {
      "displayName": "Deep Learning",
      "photoUrl": "",
      "userId": "16058886267550359459"
     },
     "user_tz": -120
    },
    "id": "NEy5u5WBAuN_",
    "outputId": "54e72bd3-9521-4b9e-eef7-9885471bdcd1"
   },
   "outputs": [
    {
     "name": "stdout",
     "output_type": "stream",
     "text": [
      "X_train shape: (964, 20, 105, 105)\n",
      "X_test shape: (659, 20, 105, 105)\n",
      "\n",
      "training alphabets\n",
      "['Braille', 'Anglo-Saxon_Futhorc', 'Tifinagh', 'Grantha', 'Burmese_(Myanmar)', 'Mkhedruli_(Georgian)', 'Latin', 'Ojibwe_(Canadian_Aboriginal_Syllabics)', 'Balinese', 'Malay_(Jawi_-_Arabic)', 'Early_Aramaic', 'Korean', 'Japanese_(hiragana)', 'Armenian', 'Cyrillic', 'Hebrew', 'Syriac_(Estrangelo)', 'Japanese_(katakana)', 'Blackfoot_(Canadian_Aboriginal_Syllabics)', 'N_Ko', 'Alphabet_of_the_Magi', 'Inuktitut_(Canadian_Aboriginal_Syllabics)', 'Greek', 'Bengali', 'Tagalog', 'Futurama', 'Arcadian', 'Gujarati', 'Asomtavruli_(Georgian)', 'Sanskrit']\n",
      "test alphabets:\n",
      "['ULOG', 'Atemayar_Qelisayer', 'Ge_ez', 'Gurmukhi', 'Tengwar', 'Keble', 'Malayalam', 'Oriya', 'Kannada', 'Mongolian', 'Angelic', 'Atlantean', 'Syriac_(Serto)', 'Aurek-Besh', 'Avesta', 'Glagolitic', 'Sylheti', 'Tibetan', 'Manipuri', 'Old_Church_Slavonic_(Cyrillic)']\n"
     ]
    }
   ],
   "source": [
    "PATH = os.path.join(\"drive\",\"My Drive\",\"data_DL_practical\" ,\"omniglot\")\n",
    "\n",
    "with open(os.path.join(PATH, \"omniglot_train.p\"), \"rb\") as f:\n",
    "    (X_train, c_train) = pickle.load(f)\n",
    "\n",
    "with open(os.path.join(PATH, \"omniglot_test.p\"), \"rb\") as f:\n",
    "    (X_test, c_test) = pickle.load(f)\n",
    "\n",
    "print(\"X_train shape:\", X_train.shape)\n",
    "print(\"X_test shape:\", X_test.shape)\n",
    "print(\"\")\n",
    "print(\"training alphabets\")\n",
    "print([key for key in c_train.keys()])\n",
    "print(\"test alphabets:\")\n",
    "print([key for key in c_test.keys()])"
   ]
  },
  {
   "cell_type": "markdown",
   "metadata": {},
   "source": [
    "### Task 2.1: Build the triplet network (3pt)"
   ]
  },
  {
   "cell_type": "markdown",
   "metadata": {
    "colab_type": "text",
    "id": "1WHpL8iHAuOH"
   },
   "source": [
    "We will define a triplet Network for use with the Omniglot dataset. Each branch of the triplet  is a \"convnet\" model that transforms data to an embeddings space. \n",
    "\n",
    "*HINT: you may need \"Concatenate\" from keras.layer to merge the output layer*"
   ]
  },
  {
   "cell_type": "code",
   "execution_count": null,
   "metadata": {},
   "outputs": [],
   "source": [
    "# define a convnet model to transforms data to an embeddings space. \n",
    "# === COMPLELET CODE BELOW ===\n",
    "input_shape = (105, 105, 1)\n",
    "convnet = Sequential()\n",
    "convnet.add(Conv2D(64, (10,10), activation='relu', input_shape=input_shape, kernel_regularizer=l2(2e-4)))\n",
    "convnet.add(MaxPooling2D())\n",
    "convnet.add(BatchNormalization())\n",
    "convnet.add(Dropout(0.25))\n",
    "convnet.add(Conv2D(128, (7,7), activation='relu', kernel_regularizer=l2(2e-4)))\n",
    "convnet.add(MaxPooling2D())\n",
    "convnet.add(BatchNormalization())\n",
    "convnet.add(Dropout(0.25))\n",
    "convnet.add(Conv2D(128, (4,4), activation='relu', kernel_regularizer=l2(2e-4)))\n",
    "convnet.add(MaxPooling2D())\n",
    "convnet.add(BatchNormalization())\n",
    "convnet.add(Dropout(0.25))\n",
    "convnet.add(Conv2D(256, (4,4), activation='relu', kernel_regularizer=l2(2e-4)))\n",
    "convnet.add(Flatten())\n",
    "convnet.add(BatchNormalization())\n",
    "convnet.add(Dropout(0.25))\n",
    "convnet.add(Dense(4096, activation=\"sigmoid\", kernel_regularizer=l2(1e-3)))\n",
    "convnet.summary()\n",
    "# encode each of the three inputs into a vector with the convnet"
   ]
  },
  {
   "cell_type": "code",
   "execution_count": 29,
   "metadata": {
    "colab": {
     "base_uri": "https://localhost:8080/",
     "height": 1000
    },
    "colab_type": "code",
    "executionInfo": {
     "elapsed": 1281,
     "status": "ok",
     "timestamp": 1589316961179,
     "user": {
      "displayName": "Deep Learning",
      "photoUrl": "",
      "userId": "16058886267550359459"
     },
     "user_tz": -120
    },
    "id": "RXVuWeCsAuOI",
    "outputId": "79a564e8-fef8-41c8-8326-a6e55f7670bb"
   },
   "outputs": [
    {
     "name": "stdout",
     "output_type": "stream",
     "text": [
      "Model: \"sequential_6\"\n",
      "_________________________________________________________________\n",
      "Layer (type)                 Output Shape              Param #   \n",
      "=================================================================\n",
      "conv2d_24 (Conv2D)           (None, 96, 96, 64)        6464      \n",
      "_________________________________________________________________\n",
      "max_pooling2d_18 (MaxPooling (None, 48, 48, 64)        0         \n",
      "_________________________________________________________________\n",
      "batch_normalization_24 (Batc (None, 48, 48, 64)        256       \n",
      "_________________________________________________________________\n",
      "dropout_24 (Dropout)         (None, 48, 48, 64)        0         \n",
      "_________________________________________________________________\n",
      "conv2d_25 (Conv2D)           (None, 42, 42, 128)       401536    \n",
      "_________________________________________________________________\n",
      "max_pooling2d_19 (MaxPooling (None, 21, 21, 128)       0         \n",
      "_________________________________________________________________\n",
      "batch_normalization_25 (Batc (None, 21, 21, 128)       512       \n",
      "_________________________________________________________________\n",
      "dropout_25 (Dropout)         (None, 21, 21, 128)       0         \n",
      "_________________________________________________________________\n",
      "conv2d_26 (Conv2D)           (None, 18, 18, 128)       262272    \n",
      "_________________________________________________________________\n",
      "max_pooling2d_20 (MaxPooling (None, 9, 9, 128)         0         \n",
      "_________________________________________________________________\n",
      "batch_normalization_26 (Batc (None, 9, 9, 128)         512       \n",
      "_________________________________________________________________\n",
      "dropout_26 (Dropout)         (None, 9, 9, 128)         0         \n",
      "_________________________________________________________________\n",
      "conv2d_27 (Conv2D)           (None, 6, 6, 256)         524544    \n",
      "_________________________________________________________________\n",
      "flatten_6 (Flatten)          (None, 9216)              0         \n",
      "_________________________________________________________________\n",
      "batch_normalization_27 (Batc (None, 9216)              36864     \n",
      "_________________________________________________________________\n",
      "dropout_27 (Dropout)         (None, 9216)              0         \n",
      "_________________________________________________________________\n",
      "dense_6 (Dense)              (None, 4096)              37752832  \n",
      "=================================================================\n",
      "Total params: 38,985,792\n",
      "Trainable params: 38,966,720\n",
      "Non-trainable params: 19,072\n",
      "_________________________________________________________________\n",
      "Model: \"model_6\"\n",
      "__________________________________________________________________________________________________\n",
      "Layer (type)                    Output Shape         Param #     Connected to                     \n",
      "==================================================================================================\n",
      "input (InputLayer)              [(None, 3, 105, 105, 0                                            \n",
      "__________________________________________________________________________________________________\n",
      "lambda_18 (Lambda)              (None, 105, 105, 1)  0           input[0][0]                      \n",
      "__________________________________________________________________________________________________\n",
      "lambda_19 (Lambda)              (None, 105, 105, 1)  0           input[0][0]                      \n",
      "__________________________________________________________________________________________________\n",
      "lambda_20 (Lambda)              (None, 105, 105, 1)  0           input[0][0]                      \n",
      "__________________________________________________________________________________________________\n",
      "sequential_6 (Sequential)       (None, 4096)         38985792    lambda_18[0][0]                  \n",
      "                                                                 lambda_19[0][0]                  \n",
      "                                                                 lambda_20[0][0]                  \n",
      "__________________________________________________________________________________________________\n",
      "concatenate_6 (Concatenate)     (None, 12288)        0           sequential_6[1][0]               \n",
      "                                                                 sequential_6[2][0]               \n",
      "                                                                 sequential_6[3][0]               \n",
      "==================================================================================================\n",
      "Total params: 38,985,792\n",
      "Trainable params: 38,966,720\n",
      "Non-trainable params: 19,072\n",
      "__________________________________________________________________________________________________\n"
     ]
    }
   ],
   "source": [
    "# define a Triplet network\n",
    "\n",
    "# merge the anchor, positive, negative three input together, as the input of the triplet network\n",
    "generated = Input(shape=(3,105, 105, 1), name='input')\n",
    "\n",
    "anchor  = Lambda(lambda x: x[:,0])(generated)\n",
    "pos     = Lambda(lambda x: x[:,1])(generated)\n",
    "neg     = Lambda(lambda x: x[:,2])(generated)\n",
    "                    \n",
    "\n",
    "anchor_embedding    = convnet(anchor)\n",
    "pos_embedding       = convnet(pos)\n",
    "neg_embedding       = convnet(neg)  \n",
    "\n",
    "# merge the anchor, positive, negative embedding together, \n",
    "# let the merged layer be the output of triplet network\n",
    "merged_output = Concatenate()([anchor_embedding, pos_embedding, neg_embedding])\n",
    "triplet_net = Model(inputs=generated, outputs=merged_output)\n",
    "triplet_net.summary()"
   ]
  },
  {
   "cell_type": "markdown",
   "metadata": {
    "colab_type": "text",
    "id": "A-XyrIANAuOM"
   },
   "source": [
    "### Task 2.2: Define triplet loss (2pt)\n",
    "\n",
    "You can find the formula of the triplet loss function in our lecture note. When training our model, make sure the network achieves a smaller loss than the margin and the network does not collapse all representations to zero vectors. \n",
    "\n",
    "*HINT: If you experience problems to achieve this goal, it might be helpful to tinker the learning rate, you can also play with the margin value to get better performance*"
   ]
  },
  {
   "cell_type": "code",
   "execution_count": 0,
   "metadata": {
    "colab": {},
    "colab_type": "code",
    "id": "mZ3v2Z0RAuON"
   },
   "outputs": [],
   "source": [
    "# Notice that the ground truth variable is not used for loss calculation. \n",
    "# It is used as a function argument to by-pass some Keras functionality.\n",
    "# This is because the network structure already implies the ground truth for the anchor image with the \"positive\" image.\n",
    "import tensorflow as tf\n",
    "def triplet_loss(ground_truth, network_output):\n",
    "\n",
    "    anchor, positive, negative = tf.split(network_output, num_or_size_splits=3, axis=1)        \n",
    "    \n",
    "    # for embedding in [anchor, positive, negative]:\n",
    "    #     embedding = tf.math.l2_normalize(embedding)\n",
    "\n",
    "    pos_dist = tf.reduce_sum(tf.square(tf.subtract(anchor, positive)), axis=1)\n",
    "    neg_dist = tf.reduce_sum(tf.square(tf.subtract(anchor, negative)), axis=1)\n",
    "    \n",
    "    margin = 0.2\n",
    "\n",
    "    basic_loss = tf.add(tf.subtract(pos_dist, neg_dist), margin)\n",
    "    loss = tf.reduce_mean(tf.maximum(basic_loss, 0.0), axis=0)\n",
    " \n",
    "    return loss"
   ]
  },
  {
   "cell_type": "markdown",
   "metadata": {},
   "source": [
    "### Task 2.3: Select triplets for training (3pt)"
   ]
  },
  {
   "cell_type": "markdown",
   "metadata": {},
   "source": [
    "#### Different  selection method\n",
    "\n",
    "We have two different options for the triplet selection method, and we will compare the model performance under these two methods after building our model.\n",
    "\n",
    "(1) Random  triplets selection, including the following steps:\n",
    "* Pick one random class for anchor\n",
    "* Pick two different random picture for this class, as the anchor and positive images\n",
    "* Pick another class for Negative, different from anchor_class\n",
    "* Pick one random picture from the negative class.\n",
    "\n",
    "(2) Hard triplets selection. For easy implement, for a picked anchor, positive pair, we will choose the hardest negative to form a hard triplet, that means, after picking an anchor, positive image, we will choose the negative image which is nearest from anchor image from a negative class, ie: \"- d(a,n)\"  can get the maximum value. The whole process including the following steps:\n",
    "* Pick one random class for anchor\n",
    "* Pick two different random picture for this class, as an anchor and positive images\n",
    "* Pick another class for negative, different from anchor_class\n",
    "* Pick one hardest picture from the negative class.\n",
    "\n",
    "*HINT: when picking the hardest negative, you may need the model.predict to get the embedding of images, the calculate the distances"
   ]
  },
  {
   "cell_type": "markdown",
   "metadata": {
    "colab_type": "text",
    "id": "tSSr9IzTAuOX"
   },
   "source": [
    "#### Different  selection method"
   ]
  },
  {
   "cell_type": "code",
   "execution_count": 0,
   "metadata": {
    "colab": {},
    "colab_type": "code",
    "id": "HcxMsmACAuOY"
   },
   "outputs": [],
   "source": [
    "# Notice that the returned  1 * np.zeros(batch_size) is to by-pass some Keras functionality, corresponding to ground_truth in tripletloss\n",
    "# We use a variable hard_selection to control which method we are going to use. If we set hard_selection == False, we will select triplets random,If we set the variable hard_selection == True, we will select hard triplets.\n",
    "\n",
    "def get_batch(convnet,batch_size,X,hard_selection):\n",
    "    \"\"\"\n",
    "    Create batch of APN triplets with a complete random strategy\n",
    "    \n",
    "    Arguments:\n",
    "    batch_size -- integer \n",
    "    Returns:\n",
    "    triplets -- list containing 3 tensors A,P,N of shape (batch_size,w,h,c)\n",
    "    \"\"\"\n",
    "    while True:\n",
    "        n_classes, n_examples, w, h = X.shape\n",
    "\n",
    "        \n",
    "        # initialize result\n",
    "        triplets=[]\n",
    "        \n",
    "        for i in range(batch_size):\n",
    "            triplet = [[],[],[]]\n",
    "            #Pick one random class for anchor\n",
    "            anchor_class = np.random.randint(0, n_classes)\n",
    "            \n",
    "            #Pick two different random pics for this class => A and P\n",
    "            [idx_A,idx_P] = np.random.choice(n_examples,size=2,replace=False)\n",
    "            \n",
    "            #Pick another class for N, different from anchor_class\n",
    "            negative_class = (anchor_class + np.random.randint(1,n_classes)) % n_classes\n",
    "\n",
    "            if not hard_selection:\n",
    "                #Pick a random pic for this negative class => N\n",
    "                idx_N = np.random.randint(0, n_examples)\n",
    "            else:\n",
    "\n",
    "\n",
    "                A_embed= convnet.predict(X[anchor_class][idx_A].reshape(1,w, h, 1))\n",
    "                P_embed= convnet.predict(X[anchor_class][idx_P].reshape(1,w, h, 1))\n",
    "                N_embeds = convnet.predict(X[negative_class][:].reshape(n_examples,w, h, 1))\n",
    "\n",
    "                loss_values=np.sum(np.square(A_embed-P_embed),axis=1) - np.sum(np.square(A_embed-N_embeds),axis=1)\n",
    "                idx_N=np.argmax(loss_values)\n",
    "                \n",
    "            triplet[0] = X[anchor_class][idx_A].reshape(w, h, 1)\n",
    "            triplet[1] = X[anchor_class][idx_P].reshape(w, h, 1)\n",
    "            triplet[2]=  X[negative_class][idx_N].reshape(w, h, 1)\n",
    "            triplets.append(triplet)\n",
    "            \n",
    "\n",
    "        yield np.array(triplets), 1 * np.zeros(batch_size)"
   ]
  },
  {
   "cell_type": "markdown",
   "metadata": {
    "colab": {},
    "colab_type": "code",
    "id": "PBo85jetaKzX"
   },
   "source": [
    "### Task 2.4: One-shot learning with different selection method (2pt)"
   ]
  },
  {
   "cell_type": "markdown",
   "metadata": {},
   "source": [
    "Function \"make_oneshot_task\" that can randomly setup such a one-shot task from a given test set (if a language is specified, using only classes/characters from that language), i.e. it will generate N pairs of images, where the first image is always the test image, and the second image is one of the N reference images. The pair of images from the same class will have target 1, all other targets are 0.\n",
    "\n",
    "The function \"test_oneshot\" will generate a number (k) of such one-shot tasks and evaluate the performance of a given model on these tasks; it reports the percentage of correctly classified test images\n",
    "\n",
    "In \"test_oneshot\", you can use embeddings extracted from the triplet network with L2-distance to evaluate one-shot learning. I.e. for a given one-shot task, obtain embeddings for the test image as well as the support set. Then pick the image from the support set that is closest (in L2-distance) to the test image as your one-shot prediction.\n",
    "\n",
    "*HINT you can re-use some code from practice 4b.4 *"
   ]
  },
  {
   "cell_type": "code",
   "execution_count": 0,
   "metadata": {
    "colab": {},
    "colab_type": "code",
    "id": "RBgoMDwMAuOh"
   },
   "outputs": [],
   "source": [
    "def make_oneshot_task(N, X, c, language=None):\n",
    "    \"\"\"Create pairs of (test image, support set image) with ground truth, for testing N-way one-shot learning.\"\"\"\n",
    "    n_classes, n_examples, w, h = X.shape\n",
    "    indices = np.random.randint(0, n_examples, size=(N,))\n",
    "    if language is not None:\n",
    "        low, high = c[language]\n",
    "        if N > high - low:\n",
    "            raise ValueError(\"This language ({}) has less than {} letters\".format(language, N))\n",
    "        categories = np.random.choice(range(low,high), size=(N,), replace=False)\n",
    "    else:  # if no language specified just pick a bunch of random letters\n",
    "        categories = np.random.choice(range(n_classes), size=(N,), replace=False)            \n",
    "    true_category = categories[0]\n",
    "    ex1, ex2 = np.random.choice(n_examples, replace=False, size=(2,))\n",
    "    test_image = np.asarray([X[true_category, ex1, :, :]]*N).reshape(N, w, h, 1)\n",
    "    support_set = X[categories, indices, :, :]\n",
    "    support_set[0, :, :] = X[true_category, ex2]\n",
    "    support_set = support_set.reshape(N, w, h, 1)\n",
    "    targets = np.zeros((N,))\n",
    "    targets[0] = 1\n",
    "    targets, test_image, support_set = shuffle(targets, test_image, support_set)\n",
    "    pairs = [test_image, support_set]\n",
    "    return pairs, targets\n"
   ]
  },
  {
   "cell_type": "code",
   "execution_count": 0,
   "metadata": {
    "colab": {},
    "colab_type": "code",
    "id": "rk5F3ffuAuOl"
   },
   "outputs": [],
   "source": [
    "from sklearn.metrics.pairwise import euclidean_distances\n",
    "def test_oneshot(model, X, c, N=20, k=250, language=None, verbose=True):\n",
    "    \"\"\"Test average N-way oneshot learning accuracy of a siamese neural net over k one-shot tasks.\"\"\"\n",
    "    n_correct = 0\n",
    "    if verbose:\n",
    "        print(\"Evaluating model on {} random {}-way one-shot learning tasks ...\".format(k, N))\n",
    "    for i in range(k):\n",
    "        pairs, targets = make_oneshot_task(N, X, c, language=language)\n",
    "        test_embeddings = convnet.predict(pairs[0])\n",
    "        support_embeddings = convnet.predict(pairs[1])\n",
    "        # for  embedding in [test_embeddings, support_embeddings]:\n",
    "        #     embedding = tf.math.l2_normalize(embedding)\n",
    "        distances=euclidean_distances(test_embeddings,support_embeddings)[0]\n",
    "        \n",
    "#         print (len(distances))\n",
    "        if np.argmin(distances) == np.argmax(targets):\n",
    "            n_correct += 1\n",
    "    percent_correct = (100.0*n_correct / k)\n",
    "    if verbose:\n",
    "        print(\"Got an average of {}% accuracy for {}-way one-shot learning\".format(percent_correct, N))\n",
    "    return percent_correct"
   ]
  },
  {
   "cell_type": "markdown",
   "metadata": {},
   "source": [
    "With different triplets selecting method (random and hard), we will train our model and evaluate the model by one-shot learning accuracy.\n",
    "\n",
    "* You need to explicitly state the accuracy under different  triplets selecting method\n",
    "* When evaluating model with test_oneshot function, set the number (k) of evaluation one-shot tasks to be 250, then calculate the average accuracy\n",
    "\n",
    "*HINT: After training our model with random selection method, before train model under hard triplets selection, we should re-build our model (re-run the cell in Task 2.1) to initialize our model and prevent re-use the trained model of random selection*"
   ]
  },
  {
   "cell_type": "markdown",
   "metadata": {},
   "source": [
    "#### Evaluate one-shot learning with  random triplets selection"
   ]
  },
  {
   "cell_type": "code",
   "execution_count": 27,
   "metadata": {
    "colab": {
     "base_uri": "https://localhost:8080/",
     "height": 377
    },
    "colab_type": "code",
    "executionInfo": {
     "elapsed": 118151,
     "status": "ok",
     "timestamp": 1589316934434,
     "user": {
      "displayName": "Deep Learning",
      "photoUrl": "",
      "userId": "16058886267550359459"
     },
     "user_tz": -120
    },
    "id": "e-r2qB5dAuOt",
    "outputId": "b1a2c693-a481-477c-abf7-7d576546fe12"
   },
   "outputs": [
    {
     "name": "stdout",
     "output_type": "stream",
     "text": [
      "=== Training loop 1 ===\n",
      "100/100 [==============================] - 10s 96ms/step - loss: 22.9683\n",
      "Evaluating model on 250 random 20-way one-shot learning tasks ...\n",
      "Got an average of 49.6% accuracy for 20-way one-shot learning\n",
      "=== Training loop 2 ===\n",
      "100/100 [==============================] - 10s 96ms/step - loss: 21.9507\n",
      "Evaluating model on 250 random 20-way one-shot learning tasks ...\n",
      "Got an average of 57.2% accuracy for 20-way one-shot learning\n",
      "=== Training loop 3 ===\n",
      "100/100 [==============================] - 10s 96ms/step - loss: 20.7099\n",
      "Evaluating model on 250 random 20-way one-shot learning tasks ...\n",
      "Got an average of 66.0% accuracy for 20-way one-shot learning\n",
      "=== Training loop 4 ===\n",
      "100/100 [==============================] - 10s 96ms/step - loss: 20.0164\n",
      "Evaluating model on 250 random 20-way one-shot learning tasks ...\n",
      "Got an average of 64.0% accuracy for 20-way one-shot learning\n",
      "=== Training loop 5 ===\n",
      "100/100 [==============================] - 10s 95ms/step - loss: 20.0668\n",
      "Evaluating model on 250 random 20-way one-shot learning tasks ...\n",
      "Got an average of 60.8% accuracy for 20-way one-shot learning\n"
     ]
    }
   ],
   "source": [
    "triplet_net.compile(loss=triplet_loss, optimizer=\"Adam\")\n",
    "loops = 5\n",
    "best_acc = 0\n",
    "batch_size=64\n",
    "steps_per_epoch=100\n",
    "epochs=1\n",
    "hard_selection=False\n",
    "\n",
    "for i in range(loops):\n",
    "    print(\"=== Training loop {} ===\".format(i+1))\n",
    "    triplet_net.fit(get_batch(convnet,batch_size, X_train,hard_selection), steps_per_epoch=steps_per_epoch, epochs=epochs)\n",
    "    test_acc = test_oneshot(convnet, X_test, c_test)\n"
   ]
  },
  {
   "cell_type": "markdown",
   "metadata": {},
   "source": [
    "#### Evaluate one-shot learning with  hard triplets selection"
   ]
  },
  {
   "cell_type": "code",
   "execution_count": 30,
   "metadata": {
    "colab": {
     "base_uri": "https://localhost:8080/",
     "height": 377
    },
    "colab_type": "code",
    "executionInfo": {
     "elapsed": 2343296,
     "status": "ok",
     "timestamp": 1589319310364,
     "user": {
      "displayName": "Deep Learning",
      "photoUrl": "",
      "userId": "16058886267550359459"
     },
     "user_tz": -120
    },
    "id": "CN_IDkRHqjb5",
    "outputId": "babacbaa-3b66-40db-a254-f488527e9d03"
   },
   "outputs": [
    {
     "name": "stdout",
     "output_type": "stream",
     "text": [
      "=== Training loop 1 ===\n",
      "100/100 [==============================] - 440s 4s/step - loss: 27.4877\n",
      "Evaluating model on 250 random 20-way one-shot learning tasks ...\n",
      "Got an average of 57.6% accuracy for 20-way one-shot learning\n",
      "=== Training loop 2 ===\n",
      "100/100 [==============================] - 442s 4s/step - loss: 30.3827\n",
      "Evaluating model on 250 random 20-way one-shot learning tasks ...\n",
      "Got an average of 73.6% accuracy for 20-way one-shot learning\n",
      "=== Training loop 3 ===\n",
      "100/100 [==============================] - 449s 4s/step - loss: 27.2523\n",
      "Evaluating model on 250 random 20-way one-shot learning tasks ...\n",
      "Got an average of 69.6% accuracy for 20-way one-shot learning\n",
      "=== Training loop 4 ===\n",
      "100/100 [==============================] - 447s 4s/step - loss: 25.5364\n",
      "Evaluating model on 250 random 20-way one-shot learning tasks ...\n",
      "Got an average of 68.0% accuracy for 20-way one-shot learning\n",
      "=== Training loop 5 ===\n",
      "100/100 [==============================] - 448s 4s/step - loss: 25.7647\n",
      "Evaluating model on 250 random 20-way one-shot learning tasks ...\n",
      "Got an average of 74.4% accuracy for 20-way one-shot learning\n"
     ]
    }
   ],
   "source": [
    "triplet_net.compile(loss=triplet_loss, optimizer=\"Adam\")\n",
    "loops = 5\n",
    "best_acc = 0\n",
    "batch_size=64\n",
    "steps_per_epoch=100\n",
    "epochs=1\n",
    "hard_selection=True\n",
    "\n",
    "for i in range(loops):\n",
    "    print(\"=== Training loop {} ===\".format(i+1))\n",
    "    triplet_net.fit(get_batch(convnet,batch_size, X_train,hard_selection), steps_per_epoch=steps_per_epoch, epochs=epochs)\n",
    "    test_acc = test_oneshot(convnet, X_test, c_test)\n"
   ]
  }
 ],
 "metadata": {
  "accelerator": "GPU",
  "colab": {
   "collapsed_sections": [],
   "name": "Assignment_2_final.ipynb",
   "provenance": []
  },
  "kernelspec": {
   "display_name": "Python 3",
   "language": "python",
   "name": "python3"
  },
  "language_info": {
   "codemirror_mode": {
    "name": "ipython",
    "version": 3
   },
   "file_extension": ".py",
   "mimetype": "text/x-python",
   "name": "python",
   "nbconvert_exporter": "python",
   "pygments_lexer": "ipython3",
   "version": "3.7.4"
  }
 },
 "nbformat": 4,
 "nbformat_minor": 1
}
