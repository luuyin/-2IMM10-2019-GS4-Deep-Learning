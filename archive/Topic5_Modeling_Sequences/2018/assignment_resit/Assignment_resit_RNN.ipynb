{
 "cells": [
  {
   "cell_type": "markdown",
   "metadata": {},
   "source": [
    "# Emojifier - Classifying emotions with RNN"
   ]
  },
  {
   "cell_type": "markdown",
   "metadata": {},
   "source": [
    "## Configuration"
   ]
  },
  {
   "cell_type": "code",
   "execution_count": 1,
   "metadata": {},
   "outputs": [
    {
     "name": "stdout",
     "output_type": "stream",
     "text": [
      "Requirement already up-to-date: emoji in /home/tita/miniconda3/envs/tfenv/lib/python3.5/site-packages (0.5.0)\n",
      "\u001b[31mtensorflow 1.3.0 requires tensorflow-tensorboard<0.2.0,>=0.1.0, which is not installed.\u001b[0m\n",
      "\u001b[33mYou are using pip version 10.0.0, however version 10.0.1 is available.\n",
      "You should consider upgrading via the 'pip install --upgrade pip' command.\u001b[0m\n"
     ]
    }
   ],
   "source": [
    "!pip install emoji --upgrade"
   ]
  },
  {
   "cell_type": "code",
   "execution_count": 2,
   "metadata": {},
   "outputs": [],
   "source": [
    "import csv\n",
    "import numpy as np\n",
    "import emoji\n",
    "import pandas as pd\n",
    "import matplotlib.pyplot as plt\n",
    "from sklearn.metrics import confusion_matrix\n",
    "\n",
    "%matplotlib inline"
   ]
  },
  {
   "cell_type": "markdown",
   "metadata": {},
   "source": [
    "### Classification on original twitter emotion data (13 classes)"
   ]
  },
  {
   "cell_type": "markdown",
   "metadata": {},
   "source": [
    "Your task is to classify text into 13 emotion labels in a form of emojis"
   ]
  },
  {
   "cell_type": "markdown",
   "metadata": {},
   "source": [
    "### Emotion list #1"
   ]
  },
  {
   "cell_type": "markdown",
   "metadata": {},
   "source": [
    "13 emotion labels in original raw data:"
   ]
  },
  {
   "cell_type": "markdown",
   "metadata": {},
   "source": [
    "    1) empty ◻\n",
    "    2) sadness 😢\n",
    "    3) enthusiasm 😀\n",
    "    4) neutral ◼\n",
    "    5) worry 😟\n",
    "    6) surprise 😱\n",
    "    7) love ❤\n",
    "    8) fun 😎\n",
    "    9) hate 😒\n",
    "    10) happiness 😊\n",
    "    11) boredom 😴\n",
    "    12) relief 😅\n",
    "    13) anger 😠"
   ]
  },
  {
   "cell_type": "markdown",
   "metadata": {},
   "source": [
    "Here, an example of label vectorization you can use in your preprocessing steps"
   ]
  },
  {
   "cell_type": "code",
   "execution_count": 3,
   "metadata": {},
   "outputs": [],
   "source": [
    "\n",
    "def vectorise_label(label):\n",
    "    if label == \"empty\":return 1 # neutral\n",
    "    elif label == \"sadness\":return 2 # sad\n",
    "    elif label == \"enthusiasm\":return 3 # happy\n",
    "    elif label == \"neutral\":return 0 # neutral\n",
    "    elif label == \"worry\":return 4 # sad\n",
    "    elif label == \"surprise\":return 5 # happy\n",
    "    elif label == \"love\":return 6 # happy\n",
    "    elif label == \"fun\":return 7 # happy\n",
    "    elif label == \"hate\":return 8\n",
    "    elif label == \"happiness\":return 9 # happy\n",
    "    elif label == \"boredom\":return 10 # neutral\n",
    "    elif label == \"relief\":return 11 # happy\n",
    "    elif label == \"anger\":return 12\n"
   ]
  },
  {
   "cell_type": "markdown",
   "metadata": {},
   "source": [
    "### Emoji set"
   ]
  },
  {
   "cell_type": "markdown",
   "metadata": {},
   "source": [
    "Here, you can find emoji set in python library that you need to use to emojify text"
   ]
  },
  {
   "cell_type": "code",
   "execution_count": 4,
   "metadata": {},
   "outputs": [
    {
     "name": "stdout",
     "output_type": "stream",
     "text": [
      "1. empty - ◻\n"
     ]
    }
   ],
   "source": [
    "print(emoji.emojize('1. empty - :white_medium_square:', use_aliases=True))"
   ]
  },
  {
   "cell_type": "code",
   "execution_count": 5,
   "metadata": {},
   "outputs": [
    {
     "name": "stdout",
     "output_type": "stream",
     "text": [
      "2. sadness - 😢\n"
     ]
    }
   ],
   "source": [
    "print(emoji.emojize('2. sadness - :cry:', use_aliases=True))"
   ]
  },
  {
   "cell_type": "code",
   "execution_count": 6,
   "metadata": {},
   "outputs": [
    {
     "name": "stdout",
     "output_type": "stream",
     "text": [
      "3. enthusiasm  - 😀\n"
     ]
    }
   ],
   "source": [
    "print(emoji.emojize('3. enthusiasm  - :grinning:', use_aliases=True))"
   ]
  },
  {
   "cell_type": "code",
   "execution_count": 7,
   "metadata": {},
   "outputs": [
    {
     "name": "stdout",
     "output_type": "stream",
     "text": [
      "4. neutral - ◼\n"
     ]
    }
   ],
   "source": [
    "print(emoji.emojize('4. neutral - :black_medium_square:', use_aliases=True))"
   ]
  },
  {
   "cell_type": "code",
   "execution_count": 8,
   "metadata": {},
   "outputs": [
    {
     "name": "stdout",
     "output_type": "stream",
     "text": [
      "5. worry - 😟\n"
     ]
    }
   ],
   "source": [
    "print(emoji.emojize('5. worry - :worried:', use_aliases=True))"
   ]
  },
  {
   "cell_type": "code",
   "execution_count": 9,
   "metadata": {},
   "outputs": [
    {
     "name": "stdout",
     "output_type": "stream",
     "text": [
      "6. surprise - 😱\n"
     ]
    }
   ],
   "source": [
    "print(emoji.emojize('6. surprise - :scream:', use_aliases=True))"
   ]
  },
  {
   "cell_type": "code",
   "execution_count": 10,
   "metadata": {},
   "outputs": [
    {
     "name": "stdout",
     "output_type": "stream",
     "text": [
      "7. love - ❤\n"
     ]
    }
   ],
   "source": [
    "print(emoji.emojize('7. love - :heart:', use_aliases=True))"
   ]
  },
  {
   "cell_type": "code",
   "execution_count": 11,
   "metadata": {},
   "outputs": [
    {
     "name": "stdout",
     "output_type": "stream",
     "text": [
      "8. fun - 😎\n"
     ]
    }
   ],
   "source": [
    "print(emoji.emojize('8. fun - :sunglasses:', use_aliases=True))"
   ]
  },
  {
   "cell_type": "code",
   "execution_count": 12,
   "metadata": {},
   "outputs": [
    {
     "name": "stdout",
     "output_type": "stream",
     "text": [
      "9. hate - 😒\n"
     ]
    }
   ],
   "source": [
    "print(emoji.emojize('9. hate - :unamused:', use_aliases=True))"
   ]
  },
  {
   "cell_type": "code",
   "execution_count": 13,
   "metadata": {},
   "outputs": [
    {
     "name": "stdout",
     "output_type": "stream",
     "text": [
      "10. happiness - 😊\n"
     ]
    }
   ],
   "source": [
    "print(emoji.emojize('10. happiness - :blush:', use_aliases=True))"
   ]
  },
  {
   "cell_type": "code",
   "execution_count": 14,
   "metadata": {},
   "outputs": [
    {
     "name": "stdout",
     "output_type": "stream",
     "text": [
      "11. boredom - 😴\n"
     ]
    }
   ],
   "source": [
    "print(emoji.emojize('11. boredom - :sleeping:', use_aliases=True))"
   ]
  },
  {
   "cell_type": "code",
   "execution_count": 15,
   "metadata": {},
   "outputs": [
    {
     "name": "stdout",
     "output_type": "stream",
     "text": [
      "12. relieved - 😅\n"
     ]
    }
   ],
   "source": [
    "print(emoji.emojize('12. relieved - :sweat_smile:', use_aliases=True))"
   ]
  },
  {
   "cell_type": "code",
   "execution_count": 16,
   "metadata": {},
   "outputs": [
    {
     "name": "stdout",
     "output_type": "stream",
     "text": [
      "13. anger - 😠\n"
     ]
    }
   ],
   "source": [
    "print(emoji.emojize('13. anger - :angry:', use_aliases=True))"
   ]
  },
  {
   "cell_type": "markdown",
   "metadata": {},
   "source": [
    "### Classification on transformed twitter emotion data (5 classes)"
   ]
  },
  {
   "cell_type": "markdown",
   "metadata": {},
   "source": [
    "As compared to task 1 (with 13 classes), here you need to transform the problem into 5-classes classification and train the model on this new setting."
   ]
  },
  {
   "cell_type": "markdown",
   "metadata": {},
   "source": [
    "Note: use example on label vectorization above to project 13 classes into 5 classes. You may choose your own emoji as visualization from https://www.webpagefx.com/tools/emoji-cheat-sheet/"
   ]
  },
  {
   "cell_type": "markdown",
   "metadata": {},
   "source": [
    "### Emotion list #2"
   ]
  },
  {
   "cell_type": "markdown",
   "metadata": {},
   "source": [
    "5 emotion labels in transformed data"
   ]
  },
  {
   "cell_type": "markdown",
   "metadata": {},
   "source": [
    "    1) neutral\n",
    "    2) sad\n",
    "    3) happy\n",
    "    4) hate\n",
    "    5) anger"
   ]
  },
  {
   "cell_type": "markdown",
   "metadata": {},
   "source": [
    "## Problem Definition"
   ]
  },
  {
   "cell_type": "markdown",
   "metadata": {},
   "source": [
    "You will build RNN model as emojifier, i.e. classifying text input into ideograms of emotions (emoji). An example of the expected input - output is as follows:"
   ]
  },
  {
   "cell_type": "markdown",
   "metadata": {},
   "source": [
    "```\n",
    "            Text          Label(emoji)\n",
    "```"
   ]
  },
  {
   "cell_type": "markdown",
   "metadata": {},
   "source": [
    "```\n",
    "I am proud of your achievements 😊\n",
    "This movie is not good and not enjoyable 😴\n",
    "```"
   ]
  },
  {
   "cell_type": "markdown",
   "metadata": {},
   "source": [
    "## 1. Task: Data Preprocessing"
   ]
  },
  {
   "cell_type": "code",
   "execution_count": 17,
   "metadata": {},
   "outputs": [],
   "source": [
    "# YOUR CODE HERE"
   ]
  },
  {
   "cell_type": "markdown",
   "metadata": {},
   "source": [
    "## 2. Task: Model Architecture and training"
   ]
  },
  {
   "cell_type": "markdown",
   "metadata": {},
   "source": [
    "Build an RNN emojifier based on the following architecture"
   ]
  },
  {
   "cell_type": "markdown",
   "metadata": {},
   "source": [
    "![Image](figures/model_small.png?raw=True)"
   ]
  },
  {
   "cell_type": "markdown",
   "metadata": {},
   "source": [
    "### 2. a. Train on 13 classes"
   ]
  },
  {
   "cell_type": "code",
   "execution_count": 18,
   "metadata": {},
   "outputs": [],
   "source": [
    "# YOUR CODE HERE"
   ]
  },
  {
   "cell_type": "markdown",
   "metadata": {},
   "source": [
    "### 2. b. Train on 5 classes"
   ]
  },
  {
   "cell_type": "code",
   "execution_count": 19,
   "metadata": {},
   "outputs": [],
   "source": [
    "# YOUR CODE HERE"
   ]
  },
  {
   "cell_type": "markdown",
   "metadata": {},
   "source": [
    "## 3. Task: Evaluation metrics"
   ]
  },
  {
   "cell_type": "markdown",
   "metadata": {},
   "source": [
    "[+] Visualize confusion matrix. Example is given as follows:"
   ]
  },
  {
   "cell_type": "markdown",
   "metadata": {},
   "source": [
    "![Image](figures/confusion_matrix_small.png?raw=True)"
   ]
  },
  {
   "cell_type": "markdown",
   "metadata": {},
   "source": [
    "[+] Compute accuracy, precision, recall, and F1-score"
   ]
  },
  {
   "cell_type": "markdown",
   "metadata": {},
   "source": [
    "### 3. a. Evaluate on 13 classes"
   ]
  },
  {
   "cell_type": "code",
   "execution_count": 20,
   "metadata": {},
   "outputs": [],
   "source": [
    "# YOUR CODE HERE\n",
    "\n",
    "# Accuracy\n",
    "\n",
    "# Precision\n",
    "\n",
    "# Recall\n",
    "\n",
    "# F1-score"
   ]
  },
  {
   "cell_type": "markdown",
   "metadata": {},
   "source": [
    "### 3. b. Evaluate on 5 classes"
   ]
  },
  {
   "cell_type": "code",
   "execution_count": 21,
   "metadata": {},
   "outputs": [],
   "source": [
    "# YOUR CODE HERE\n",
    "\n",
    "# Accuracy\n",
    "\n",
    "# Precision\n",
    "\n",
    "# Recall\n",
    "\n",
    "# F1-score"
   ]
  },
  {
   "cell_type": "markdown",
   "metadata": {},
   "source": [
    "## 4. Task: Sentiment spectrum of emotions/emojis"
   ]
  },
  {
   "cell_type": "code",
   "execution_count": 22,
   "metadata": {},
   "outputs": [],
   "source": [
    "# YOUR CODE HERE"
   ]
  }
 ],
 "metadata": {
  "kernelspec": {
   "display_name": "Python 3",
   "language": "python",
   "name": "python3"
  },
  "language_info": {
   "codemirror_mode": {
    "name": "ipython",
    "version": 3
   },
   "file_extension": ".py",
   "mimetype": "text/x-python",
   "name": "python",
   "nbconvert_exporter": "python",
   "pygments_lexer": "ipython3",
   "version": "3.5.4"
  }
 },
 "nbformat": 4,
 "nbformat_minor": 2
}
