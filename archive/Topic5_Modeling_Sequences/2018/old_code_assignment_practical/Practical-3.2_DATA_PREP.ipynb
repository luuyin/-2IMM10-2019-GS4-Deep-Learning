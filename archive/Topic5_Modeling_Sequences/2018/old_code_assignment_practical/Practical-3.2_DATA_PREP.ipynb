{
 "cells": [
  {
   "cell_type": "markdown",
   "metadata": {},
   "source": [
    "# Word level Conversational Model"
   ]
  },
  {
   "cell_type": "markdown",
   "metadata": {},
   "source": [
    "## 1. Data set"
   ]
  },
  {
   "cell_type": "markdown",
   "metadata": {},
   "source": [
    "We will use open dialogue data set based on booking a vacation - specifically, finding flights and a hotel, which is released by Microsoft. Original source of data can be found here: https://datasets.maluuba.com/Frames/dl"
   ]
  },
  {
   "cell_type": "code",
   "execution_count": 1,
   "metadata": {
    "scrolled": true
   },
   "outputs": [],
   "source": [
    "from __future__ import print_function\n",
    "\n",
    "import os\n",
    "import sys\n",
    "import numpy as np\n",
    "import pandas as pd\n",
    "pd.options.display.max_colwidth = 100\n",
    "import re\n",
    "import json\n",
    "import nltk\n",
    "import string\n",
    "from string import punctuation\n",
    "\n",
    "DATA_PATH = 'data/chatbot'\n",
    "EMBEDDING_PATH = 'embedding/chatbot'\n",
    "MODEL_PATH = 'model/chatbot'"
   ]
  },
  {
   "cell_type": "code",
   "execution_count": 2,
   "metadata": {},
   "outputs": [],
   "source": [
    "import _pickle as cPickle\n",
    "\n",
    "# reading file in pickle format\n",
    "def readPickle(pickleFilename):\n",
    "    f = open(pickleFilename, 'rb')\n",
    "    obj = cPickle.load(f)\n",
    "    f.close()\n",
    "    return obj\n",
    "\n",
    "def savePickle(dataToWrite,pickleFilename):\n",
    "    f = open(pickleFilename, 'wb')\n",
    "    cPickle.dump(dataToWrite, f)\n",
    "    f.close()"
   ]
  },
  {
   "cell_type": "code",
   "execution_count": 3,
   "metadata": {},
   "outputs": [],
   "source": [
    "with open(os.path.join(DATA_PATH,'frames.json')) as json_file:\n",
    "    data = json.load(json_file)"
   ]
  },
  {
   "cell_type": "code",
   "execution_count": 4,
   "metadata": {},
   "outputs": [],
   "source": [
    "user_ids = []\n",
    "ratings = []\n",
    "# binary task labels for succeed task : True\n",
    "task_labels = []\n",
    "questions = []\n",
    "answers = []"
   ]
  },
  {
   "cell_type": "code",
   "execution_count": 5,
   "metadata": {},
   "outputs": [],
   "source": [
    "for i in range(len(data)):\n",
    "\n",
    "\tuser_ids.append(data[i]['user_id'])\n",
    "\tratings.append(data[i]['labels']['userSurveyRating'])\n",
    "\ttask_labels.append(data[i]['labels']['wizardSurveyTaskSuccessful'])\n",
    "\tquestion = []\n",
    "\tanswer = []\n",
    "\tfor j in range(len(data[i]['turns'])):\n",
    "\t\tif(data[i]['turns'][j]['author'] == 'user'):\n",
    "\t\t\tquestion.append(data[i]['turns'][j]['text'])\n",
    "\t\telse:\n",
    "\t\t\tanswer.append(data[i]['turns'][j]['text'])\n",
    "\tquestions.append(question)\n",
    "\tanswers.append(answer)"
   ]
  },
  {
   "cell_type": "code",
   "execution_count": 6,
   "metadata": {},
   "outputs": [],
   "source": [
    "unique_userid = set() \n",
    "for userid in user_ids:\n",
    "\tif userid not in unique_userid:\n",
    "\t\tunique_userid.add(userid)\n",
    "\n",
    "new_id = np.arange(len(unique_userid))\n",
    "# for look up original userid and sorted version of user id\n",
    "ind_userid = {}\n",
    "userid_ind = {}\n",
    "\n",
    "for i, userid in enumerate(unique_userid):\n",
    "\tind_userid[new_id[i]] = userid\n",
    "\tuserid_ind[userid] = new_id[i]\n",
    "\n",
    "\n",
    "new_userids = []\n",
    "for userid in user_ids:\n",
    "\tnew_userids.append(userid_ind[userid])"
   ]
  },
  {
   "cell_type": "code",
   "execution_count": 7,
   "metadata": {},
   "outputs": [],
   "source": [
    "user_chats = list(zip(new_userids,ratings,task_labels,questions,answers))"
   ]
  },
  {
   "cell_type": "code",
   "execution_count": null,
   "metadata": {},
   "outputs": [],
   "source": [
    "#UNCOMMENT TO STORE FILE\n",
    "#savePickle(user_chats, os.path.join(DATA_PATH, 'user_chats'))\n",
    "#savePickle(questions, os.path.join(DATA_PATH, 'questions'))\n",
    "#savePickle(answers, os.path.join(DATA_PATH, 'answers'))"
   ]
  },
  {
   "cell_type": "code",
   "execution_count": 8,
   "metadata": {},
   "outputs": [
    {
     "data": {
      "text/plain": [
       "(5,\n",
       " 4.0,\n",
       " True,\n",
       " [\"I'd like to book a trip to Atlantis from Caprica on Saturday, August 13, 2016 for 8 adults. I have a tight budget of 1700.\",\n",
       "  'Yes, how about going to Neverland from Caprica on August 13, 2016 for 5 adults. For this trip, my budget would be 1900.',\n",
       "  'I have no flexibility for dates... but I can leave from Atlantis rather than Caprica. How about that?',\n",
       "  \"I suppose I'll speak with my husband to see if we can choose other dates, and then I'll come back to you.Thanks for your help\"],\n",
       " ['Hi...I checked a few options for you, and unfortunately, we do not currently have any trips that meet this criteria.  Would you like to book an alternate travel option?',\n",
       "  'I checked the availability for this date and there were no trips available.  Would you like to select some alternate dates?',\n",
       "  'I checked the availability for that date and there were no trips available.  Would you like to select some alternate dates?'])"
      ]
     },
     "execution_count": 8,
     "metadata": {},
     "output_type": "execute_result"
    }
   ],
   "source": [
    "user_chats[0]"
   ]
  },
  {
   "cell_type": "code",
   "execution_count": 10,
   "metadata": {},
   "outputs": [
    {
     "data": {
      "text/plain": [
       "[\"I'd like to book a trip to Atlantis from Caprica on Saturday, August 13, 2016 for 8 adults. I have a tight budget of 1700.\",\n",
       " 'Yes, how about going to Neverland from Caprica on August 13, 2016 for 5 adults. For this trip, my budget would be 1900.',\n",
       " 'I have no flexibility for dates... but I can leave from Atlantis rather than Caprica. How about that?',\n",
       " \"I suppose I'll speak with my husband to see if we can choose other dates, and then I'll come back to you.Thanks for your help\"]"
      ]
     },
     "execution_count": 10,
     "metadata": {},
     "output_type": "execute_result"
    }
   ],
   "source": [
    "questions[0]"
   ]
  },
  {
   "cell_type": "code",
   "execution_count": 11,
   "metadata": {},
   "outputs": [
    {
     "data": {
      "text/plain": [
       "['Hi...I checked a few options for you, and unfortunately, we do not currently have any trips that meet this criteria.  Would you like to book an alternate travel option?',\n",
       " 'I checked the availability for this date and there were no trips available.  Would you like to select some alternate dates?',\n",
       " 'I checked the availability for that date and there were no trips available.  Would you like to select some alternate dates?']"
      ]
     },
     "execution_count": 11,
     "metadata": {},
     "output_type": "execute_result"
    }
   ],
   "source": [
    "answers[0]"
   ]
  },
  {
   "cell_type": "code",
   "execution_count": 12,
   "metadata": {},
   "outputs": [],
   "source": [
    "qa = []\n",
    "for list_q, list_a in zip(questions,answers):\n",
    "    len_pair = min(len(list_q),len(list_a))\n",
    "    new_q = list_q[:len_pair]\n",
    "    new_a = list_a[:len_pair]\n",
    "    for q,a in zip(new_q, new_a):\n",
    "        qa.append((q,a))"
   ]
  },
  {
   "cell_type": "code",
   "execution_count": 14,
   "metadata": {},
   "outputs": [
    {
     "data": {
      "text/plain": [
       "[(\"I'd like to book a trip to Atlantis from Caprica on Saturday, August 13, 2016 for 8 adults. I have a tight budget of 1700.\",\n",
       "  'Hi...I checked a few options for you, and unfortunately, we do not currently have any trips that meet this criteria.  Would you like to book an alternate travel option?'),\n",
       " ('Yes, how about going to Neverland from Caprica on August 13, 2016 for 5 adults. For this trip, my budget would be 1900.',\n",
       "  'I checked the availability for this date and there were no trips available.  Would you like to select some alternate dates?'),\n",
       " ('I have no flexibility for dates... but I can leave from Atlantis rather than Caprica. How about that?',\n",
       "  'I checked the availability for that date and there were no trips available.  Would you like to select some alternate dates?')]"
      ]
     },
     "execution_count": 14,
     "metadata": {},
     "output_type": "execute_result"
    }
   ],
   "source": [
    "qa[:3]"
   ]
  },
  {
   "cell_type": "code",
   "execution_count": null,
   "metadata": {},
   "outputs": [],
   "source": [
    "#UNCOMMENT TO STORE FILE\n",
    "#savePickle(qa, os.path.join(DATA_PATH, 'qa_pair'))"
   ]
  }
 ],
 "metadata": {
  "kernelspec": {
   "display_name": "Python 3",
   "language": "python",
   "name": "python3"
  },
  "language_info": {
   "codemirror_mode": {
    "name": "ipython",
    "version": 3
   },
   "file_extension": ".py",
   "mimetype": "text/x-python",
   "name": "python",
   "nbconvert_exporter": "python",
   "pygments_lexer": "ipython3",
   "version": "3.5.4"
  }
 },
 "nbformat": 4,
 "nbformat_minor": 2
}
