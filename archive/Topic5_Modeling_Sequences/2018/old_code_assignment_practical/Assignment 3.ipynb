{
 "cells": [
  {
   "cell_type": "markdown",
   "metadata": {},
   "source": [
    "## Assignment 3"
   ]
  },
  {
   "cell_type": "markdown",
   "metadata": {},
   "source": [
    "## Sequence Classification Model : 10 points"
   ]
  },
  {
   "cell_type": "markdown",
   "metadata": {},
   "source": [
    "### 1.  Generating document embedding (3 pts)"
   ]
  },
  {
   "cell_type": "markdown",
   "metadata": {},
   "source": [
    "a. List and discuss possible ways to generate representation of document"
   ]
  },
  {
   "cell_type": "markdown",
   "metadata": {},
   "source": [
    "b. Coding task: \n",
    "\n",
    "* Train sequential model with objective function to minimize error loss for classification task (on 5000 training set and 5000 validation set)\n",
    "* Retrieve document embedding from the trained model (10000 documents from validation set)\n",
    "* Visualize it in embedding space (only 5000 document embedding)"
   ]
  },
  {
   "cell_type": "markdown",
   "metadata": {},
   "source": [
    "### 2. Evaluating performance of sequential model for sentiment classification task (1 pt)"
   ]
  },
  {
   "cell_type": "markdown",
   "metadata": {},
   "source": [
    "Coding task:\n",
    "* Plot historical error loss and accuracy during training and validation task\n",
    "* explain the resulting plots"
   ]
  },
  {
   "cell_type": "markdown",
   "metadata": {},
   "source": [
    "### 3. Evaluating the quality of embedding (2 pts)"
   ]
  },
  {
   "cell_type": "markdown",
   "metadata": {},
   "source": [
    "Coding task:\n",
    "\n",
    "* Evaluate the quality of document embedding (5000 document embedding from validation set that has not been trained) to the subsequent classification task:\n",
    "    - loss and accuracy of trained model on new unseen documents\n",
    "    - MLP classifier built in keras model. Justify your chosen architecture.\n",
    "    - Linear model / SVM classifier"
   ]
  },
  {
   "cell_type": "markdown",
   "metadata": {},
   "source": [
    "### 4. Document similarity task (4 pts)"
   ]
  },
  {
   "cell_type": "markdown",
   "metadata": {},
   "source": [
    "Coding task:\n",
    "* Generate document embedding from the trained model and new unseen document (preprocessed unlabelled data)\n",
    "* Define and implement a method to assign labels to 10 unlabelled document embedding, given previously trained document embedding (validation data set)\n",
    "* Discuss and visualize the results"
   ]
  },
  {
   "cell_type": "markdown",
   "metadata": {},
   "source": [
    "## Sequence-to-sequence Model: 15 points"
   ]
  },
  {
   "cell_type": "markdown",
   "metadata": {},
   "source": [
    "### Bonus (... points) - open research question \n",
    "\n",
    "* List and Discuss several possible ways to improve the generalizability of model, towards generalizable document embedding. Justify your answer. (The term \"model\" is not restricted to sequential model of RNN).\n",
    "* List and Discuss several possible ways to evaluate the quality of sentence and document embedding, towards generalizable document embedding. Your answer need to cover:\n",
    "    - quantitative evaluation (supervised and unsupervised tasks)\n",
    "    - qualitative evaluation - if anys"
   ]
  }
 ],
 "metadata": {
  "kernelspec": {
   "display_name": "Python 3",
   "language": "python",
   "name": "python3"
  },
  "language_info": {
   "codemirror_mode": {
    "name": "ipython",
    "version": 3
   },
   "file_extension": ".py",
   "mimetype": "text/x-python",
   "name": "python",
   "nbconvert_exporter": "python",
   "pygments_lexer": "ipython3",
   "version": "3.5.4"
  }
 },
 "nbformat": 4,
 "nbformat_minor": 2
}
