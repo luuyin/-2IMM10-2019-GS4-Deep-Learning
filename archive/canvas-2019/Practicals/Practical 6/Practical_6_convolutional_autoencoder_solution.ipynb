{
 "cells": [
  {
   "cell_type": "code",
   "execution_count": 0,
   "metadata": {
    "colab": {
     "base_uri": "https://localhost:8080/",
     "height": 34
    },
    "colab_type": "code",
    "id": "BruKfi2NCZM2",
    "outputId": "508f0162-e83b-4a92-8061-f75bc04db57c"
   },
   "outputs": [
    {
     "name": "stderr",
     "output_type": "stream",
     "text": [
      "Using TensorFlow backend.\n"
     ]
    }
   ],
   "source": [
    "from keras.layers import Input, Dense, Conv2D, MaxPooling2D, UpSampling2D, Flatten, Reshape, BatchNormalization\n",
    "from keras.models import Model\n",
    "from keras.datasets import mnist\n",
    "\n",
    "import numpy as np\n",
    "import matplotlib.pyplot as plt"
   ]
  },
  {
   "cell_type": "markdown",
   "metadata": {
    "colab_type": "text",
    "id": "jeLLU7zA5xgN"
   },
   "source": [
    "# Practical: Convolutional autoencoder architectures\n",
    "In this practical we will look at how to design a convolutional autoencoder architecture. For the encoder, we can use similar architectures as for common classification/regression networks (e.g. VGG-style). Typically, the decoder is then designed to \"reverse\" the structure of the encoder. For fully connected layers this is straightforward, but for convolutional or pooling layers this leaves some options."
   ]
  },
  {
   "cell_type": "markdown",
   "metadata": {
    "colab_type": "text",
    "id": "B_ghJwoMAOq9"
   },
   "source": [
    "## Data (MNIST)\n",
    "We'll use MNIST as a simple example. Images are 28x28 pixels, but for convolutional autoencoders with strides or pooling, it is very convenient if the image size is a multiple of the stride/pool size. Typically, we use 2x2 strides/pooling, so we rescale the canvas size of MNIST from 28x28 to 32x32 (since 32=2^5), by padding zeros."
   ]
  },
  {
   "cell_type": "code",
   "execution_count": 0,
   "metadata": {
    "colab": {
     "base_uri": "https://localhost:8080/",
     "height": 51
    },
    "colab_type": "code",
    "id": "Xk9zHRsyAOMI",
    "outputId": "632f056d-c369-4a07-d65b-c2841a3cd9a1"
   },
   "outputs": [
    {
     "name": "stdout",
     "output_type": "stream",
     "text": [
      "Downloading data from https://s3.amazonaws.com/img-datasets/mnist.npz\n",
      "11493376/11490434 [==============================] - 0s 0us/step\n"
     ]
    }
   ],
   "source": [
    "# MNIST dataset\n",
    "(x_train, y_train), (x_test, y_test) = mnist.load_data()\n",
    "\n",
    "# normalise\n",
    "x_train = x_train.astype('float32') / 255\n",
    "x_test = x_test.astype('float32') / 255\n",
    "\n",
    "# change shape: (n, 28, 28) -> (n, 28, 28, 1)\n",
    "x_train = x_train.reshape(x_train.shape + (1,))\n",
    "x_test = x_test.reshape(x_test.shape + (1,))\n",
    "\n",
    "# pad zeros to obtain canvas size of 32x32, i.e. shape is now (n, 32, 32, 1)\n",
    "x_train = np.pad(x_train, pad_width=((0, 0), (2, 2), (2, 2), (0, 0)), mode=\"constant\", constant_values=0)\n",
    "x_test = np.pad(x_test, pad_width=((0, 0), (2, 2), (2, 2), (0, 0)), mode=\"constant\", constant_values=0)\n",
    "\n",
    "# get height, width, and depth values\n",
    "height, width, depth = x_train.shape[1:]"
   ]
  },
  {
   "cell_type": "markdown",
   "metadata": {
    "colab_type": "text",
    "id": "xSMvUpCcBJh-"
   },
   "source": [
    "## VGG-like encoder\n",
    "Let's make a simple VGG-like encoder with 2 convolutional blocks, each consisting of a single convolution and maxpooling, followed by two dense layers. We'll also include batch normalisation.\n",
    "\n",
    "Let's write the input and output shape of each layer in the comments, to get a better idea of the structure of the network."
   ]
  },
  {
   "cell_type": "code",
   "execution_count": 0,
   "metadata": {
    "colab": {
     "base_uri": "https://localhost:8080/",
     "height": 68
    },
    "colab_type": "code",
    "id": "qWGPctQv5oKv",
    "outputId": "318cf454-8b92-4314-e625-bdc4e4183059"
   },
   "outputs": [
    {
     "name": "stdout",
     "output_type": "stream",
     "text": [
      "WARNING:tensorflow:From /usr/local/lib/python3.6/dist-packages/tensorflow/python/framework/op_def_library.py:263: colocate_with (from tensorflow.python.framework.ops) is deprecated and will be removed in a future version.\n",
      "Instructions for updating:\n",
      "Colocations handled automatically by placer.\n"
     ]
    }
   ],
   "source": [
    "# input\n",
    "x_in = Input(shape=(height, width, depth), name=\"encoder_input\")\n",
    "\n",
    "# conv block 1\n",
    "h = Conv2D(filters=64, kernel_size=(3, 3), padding=\"same\",\n",
    "           activation='relu')(x_in)                    # (32, 32, 1)  -> (32, 32, 64)\n",
    "h = MaxPooling2D(pool_size=(2, 2), padding=\"same\")(h)  # (32, 32, 64) -> (16, 16, 64)\n",
    "h = BatchNormalization()(h)                            # no change\n",
    "\n",
    "# conv block 2\n",
    "h = Conv2D(filters=128, kernel_size=(3, 3), padding=\"same\",\n",
    "           activation='relu')(h)                       # (16, 16, 64)  -> (16, 16, 128)\n",
    "h = MaxPooling2D(pool_size=(2, 2), padding=\"same\")(h)  # (16, 16, 128) -> (8, 8, 128)\n",
    "h = BatchNormalization()(h)                            # no change\n",
    "\n",
    "# dense layers\n",
    "h = Flatten()(h)                                       # (8, 8, 128) -> (8*8*128,)\n",
    "h = Dense(256, activation=\"relu\")(h)                   # (8*8*128,)  -> (256,)\n",
    "h = BatchNormalization()(h)                            # no change\n",
    "h = Dense(128, activation=\"relu\")(h)                   # (256,) -> (128,)\n",
    "h = BatchNormalization()(h)                            # no change\n",
    "encoded = Dense(32)(h)                                 # (128,) -> (32,) (encoding dimension)\n",
    "# NOTE: no activation for the last layer, encoded representations are vectors of real numbers"
   ]
  },
  {
   "cell_type": "markdown",
   "metadata": {
    "colab_type": "text",
    "id": "nt_45hfWGfjm"
   },
   "source": [
    "## Decoder architecture: reversing the structure\n",
    "For our decoder architecture, it seems natural to reverse the structure of the encoder, layer by layer. We could try some weight-tying between encoder and decoder, but typically this is not done; the encoder and decoder each have their own weights that are trained independently.\n",
    "\n",
    "Reversing the structure of a fully connected layer is simple; use the input size of the encoder layer as the number of output units for the decoder layer.\n",
    "\n",
    "To reverse convolutional layers (in particular when they are strided), we could use a transposed convolution (often mistakenly called \"deconvolution\") to reverse its structure. However, this is prone to creating unwanted artifacts, or the checkerboard effect (see https://distill.pub/2016/deconv-checkerboard/ for an excellent explanation). Therefore, we prefer to not use strided convolutions in the encoder, and we use MaxPooling to downsample the size of the activation maps. To reverse this downsampling, we can use the UpSampling layer in Keras (which is essentially nearest-neighbour interpolation as described and recommended in https://distill.pub/2016/deconv-checkerboard/). To \"reverse\" a non-strided convolution, we can then simply use another normal convolution, where we use the number of input activation maps (filters) in of the encoder conv-layer as the number of output activation maps (filters) for the decoder conv-layer.\n",
    "\n",
    "Now let's reverse the encoder architecture, making sure that we have the same change in shape for the hidden units, but reversed."
   ]
  },
  {
   "cell_type": "code",
   "execution_count": 0,
   "metadata": {
    "colab": {},
    "colab_type": "code",
    "id": "RehLD1URrsnS"
   },
   "outputs": [],
   "source": [
    "# HOMEWORK: design the decoder architecture, by reversing the encoder architecture\n",
    "# the reversed order of the shapes is already given as a guide\n",
    "\n",
    "# (32,) -> (128,) (encoding dimension)\n",
    "# no change\n",
    "# (128, -> (256,)\n",
    "# no change\n",
    "# (256,)     -> (8*8*128,)\n",
    "# (8*8*128,) -> (8, 8, 128)\n",
    "\n",
    "# no change\n",
    "# (8, 8, 128  ) -> (16, 16, 128)\n",
    "# (16, 16, 128) -> (16, 16, 64)\n",
    "\n",
    "# no change\n",
    "# (16, 16, 64) -> (32, 32, 64)\n",
    "# (32, 32, 64) -> (32, 32, 1)\n",
    "# HINT: think about the activation for the last layer, which should represent\n",
    "#       pixel values between 0 and 1"
   ]
  },
  {
   "cell_type": "code",
   "execution_count": 0,
   "metadata": {
    "colab": {},
    "colab_type": "code",
    "id": "bYhr2ZvlmKLV"
   },
   "outputs": [],
   "source": [
    "# SOLUTION:\n",
    "\n",
    "# reverse dense layers\n",
    "h = Dense(128, activation=\"relu\")(encoded)  # (32,) -> (128,) (encoding dimension)\n",
    "h = BatchNormalization()(h)                 # no change\n",
    "h = Dense(256, activation=\"relu\")(h)        # (128, -> (256,)\n",
    "h = BatchNormalization()(h)                 # no change\n",
    "h = Dense(8*8*128, activation=\"relu\")(h)    # (256,)     -> (8*8*128,)\n",
    "h = Reshape((8, 8, 128))(h)                 # (8*8*128,) -> (8, 8, 128)\n",
    "\n",
    "# reverse conv block 2\n",
    "h = BatchNormalization()(h)                 # no change\n",
    "h = UpSampling2D(size=(2, 2))(h)            # (8, 8, 128  ) -> (16, 16, 128)\n",
    "h = Conv2D(filters=64, kernel_size=(3, 3), padding=\"same\",\n",
    "           activation='relu')(h)            # (16, 16, 128) -> (16, 16, 64)\n",
    "\n",
    "# reverse conv block 2\n",
    "h = BatchNormalization()(h)                 # no change\n",
    "h = UpSampling2D(size=(2, 2))(h)            # (16, 16, 64) -> (32, 32, 64)\n",
    "x_out = Conv2D(filters=1, kernel_size=(3, 3), padding=\"same\",\n",
    "               activation='sigmoid')(h)     # (32, 32, 64) -> (32, 32, 1)\n",
    "# NOTE: sigmoid activation for the last layer, since it should represent\n",
    "#       pixel values between 0 and 1"
   ]
  },
  {
   "cell_type": "markdown",
   "metadata": {
    "colab_type": "text",
    "id": "7_Gfx42fuHPy"
   },
   "source": [
    "## Compile, train, and test the model\n",
    "Let's setup and compile the autoencoder, and do a quick test. We use some loss function to compare the original data with its reconstruction, so we use the training set both as input and target values."
   ]
  },
  {
   "cell_type": "code",
   "execution_count": 0,
   "metadata": {
    "colab": {
     "base_uri": "https://localhost:8080/",
     "height": 1751
    },
    "colab_type": "code",
    "id": "O34SRp8-uGfC",
    "outputId": "45780e0e-1b9e-4066-b4a2-4606038ff9a6"
   },
   "outputs": [
    {
     "name": "stdout",
     "output_type": "stream",
     "text": [
      "_________________________________________________________________\n",
      "Layer (type)                 Output Shape              Param #   \n",
      "=================================================================\n",
      "encoder_input (InputLayer)   (None, 32, 32, 1)         0         \n",
      "_________________________________________________________________\n",
      "conv2d_1 (Conv2D)            (None, 32, 32, 64)        640       \n",
      "_________________________________________________________________\n",
      "max_pooling2d_1 (MaxPooling2 (None, 16, 16, 64)        0         \n",
      "_________________________________________________________________\n",
      "batch_normalization_1 (Batch (None, 16, 16, 64)        256       \n",
      "_________________________________________________________________\n",
      "conv2d_2 (Conv2D)            (None, 16, 16, 128)       73856     \n",
      "_________________________________________________________________\n",
      "max_pooling2d_2 (MaxPooling2 (None, 8, 8, 128)         0         \n",
      "_________________________________________________________________\n",
      "batch_normalization_2 (Batch (None, 8, 8, 128)         512       \n",
      "_________________________________________________________________\n",
      "flatten_1 (Flatten)          (None, 8192)              0         \n",
      "_________________________________________________________________\n",
      "dense_1 (Dense)              (None, 256)               2097408   \n",
      "_________________________________________________________________\n",
      "batch_normalization_3 (Batch (None, 256)               1024      \n",
      "_________________________________________________________________\n",
      "dense_2 (Dense)              (None, 128)               32896     \n",
      "_________________________________________________________________\n",
      "batch_normalization_4 (Batch (None, 128)               512       \n",
      "_________________________________________________________________\n",
      "dense_3 (Dense)              (None, 32)                4128      \n",
      "_________________________________________________________________\n",
      "dense_4 (Dense)              (None, 128)               4224      \n",
      "_________________________________________________________________\n",
      "batch_normalization_5 (Batch (None, 128)               512       \n",
      "_________________________________________________________________\n",
      "dense_5 (Dense)              (None, 256)               33024     \n",
      "_________________________________________________________________\n",
      "batch_normalization_6 (Batch (None, 256)               1024      \n",
      "_________________________________________________________________\n",
      "dense_6 (Dense)              (None, 8192)              2105344   \n",
      "_________________________________________________________________\n",
      "reshape_1 (Reshape)          (None, 8, 8, 128)         0         \n",
      "_________________________________________________________________\n",
      "batch_normalization_7 (Batch (None, 8, 8, 128)         512       \n",
      "_________________________________________________________________\n",
      "up_sampling2d_1 (UpSampling2 (None, 16, 16, 128)       0         \n",
      "_________________________________________________________________\n",
      "conv2d_3 (Conv2D)            (None, 16, 16, 64)        73792     \n",
      "_________________________________________________________________\n",
      "batch_normalization_8 (Batch (None, 16, 16, 64)        256       \n",
      "_________________________________________________________________\n",
      "up_sampling2d_2 (UpSampling2 (None, 32, 32, 64)        0         \n",
      "_________________________________________________________________\n",
      "conv2d_4 (Conv2D)            (None, 32, 32, 1)         577       \n",
      "=================================================================\n",
      "Total params: 4,430,497\n",
      "Trainable params: 4,428,193\n",
      "Non-trainable params: 2,304\n",
      "_________________________________________________________________\n",
      "WARNING:tensorflow:From /usr/local/lib/python3.6/dist-packages/tensorflow/python/ops/math_ops.py:3066: to_int32 (from tensorflow.python.ops.math_ops) is deprecated and will be removed in a future version.\n",
      "Instructions for updating:\n",
      "Use tf.cast instead.\n",
      "Train on 60000 samples, validate on 10000 samples\n",
      "Epoch 1/20\n",
      "60000/60000 [==============================] - 19s 324us/step - loss: 0.1181 - val_loss: 0.0805\n",
      "Epoch 2/20\n",
      "60000/60000 [==============================] - 14s 234us/step - loss: 0.0696 - val_loss: 0.0693\n",
      "Epoch 3/20\n",
      "60000/60000 [==============================] - 14s 234us/step - loss: 0.0653 - val_loss: 0.0634\n",
      "Epoch 4/20\n",
      "60000/60000 [==============================] - 14s 234us/step - loss: 0.0630 - val_loss: 0.0645\n",
      "Epoch 5/20\n",
      "60000/60000 [==============================] - 14s 235us/step - loss: 0.0614 - val_loss: 0.0602\n",
      "Epoch 6/20\n",
      "60000/60000 [==============================] - 14s 239us/step - loss: 0.0604 - val_loss: 0.0581\n",
      "Epoch 7/20\n",
      "60000/60000 [==============================] - 14s 235us/step - loss: 0.0598 - val_loss: 0.0586\n",
      "Epoch 8/20\n",
      "60000/60000 [==============================] - 14s 234us/step - loss: 0.0591 - val_loss: 0.0579\n",
      "Epoch 9/20\n",
      "60000/60000 [==============================] - 14s 233us/step - loss: 0.0586 - val_loss: 0.0582\n",
      "Epoch 10/20\n",
      "60000/60000 [==============================] - 14s 233us/step - loss: 0.0585 - val_loss: 0.0587\n",
      "Epoch 11/20\n",
      "60000/60000 [==============================] - 15s 248us/step - loss: 0.0580 - val_loss: 0.0576\n",
      "Epoch 12/20\n",
      "60000/60000 [==============================] - 15s 247us/step - loss: 0.0578 - val_loss: 0.0570\n",
      "Epoch 13/20\n",
      "60000/60000 [==============================] - 14s 237us/step - loss: 0.0575 - val_loss: 0.0565\n",
      "Epoch 14/20\n",
      "60000/60000 [==============================] - 14s 237us/step - loss: 0.0572 - val_loss: 0.0559\n",
      "Epoch 15/20\n",
      "60000/60000 [==============================] - 14s 237us/step - loss: 0.0570 - val_loss: 0.0556\n",
      "Epoch 16/20\n",
      "60000/60000 [==============================] - 14s 237us/step - loss: 0.0569 - val_loss: 0.0561\n",
      "Epoch 17/20\n",
      "60000/60000 [==============================] - 15s 243us/step - loss: 0.0567 - val_loss: 0.0559\n",
      "Epoch 18/20\n",
      "60000/60000 [==============================] - 14s 236us/step - loss: 0.0566 - val_loss: 0.0554\n",
      "Epoch 19/20\n",
      "60000/60000 [==============================] - 14s 236us/step - loss: 0.0564 - val_loss: 0.0564\n",
      "Epoch 20/20\n",
      "60000/60000 [==============================] - 14s 238us/step - loss: 0.0563 - val_loss: 0.0558\n"
     ]
    },
    {
     "data": {
      "text/plain": [
       "<keras.callbacks.History at 0x7f49d80137b8>"
      ]
     },
     "execution_count": 6,
     "metadata": {
      "tags": []
     },
     "output_type": "execute_result"
    }
   ],
   "source": [
    "autoencoder = Model(x_in, x_out, name=\"autoencoder\")\n",
    "autoencoder.compile(optimizer=\"adam\", loss=\"binary_crossentropy\")\n",
    "autoencoder.summary()\n",
    "\n",
    "autoencoder.fit(x_train, x_train,\n",
    "                epochs=20,\n",
    "                batch_size=100,\n",
    "                validation_data=(x_test, x_test))"
   ]
  },
  {
   "cell_type": "markdown",
   "metadata": {
    "colab_type": "text",
    "id": "mgT1vEyD24ay"
   },
   "source": [
    "Reconstruct and visualise some images from the test set."
   ]
  },
  {
   "cell_type": "code",
   "execution_count": 0,
   "metadata": {
    "colab": {
     "base_uri": "https://localhost:8080/",
     "height": 244
    },
    "colab_type": "code",
    "id": "9y7PSeOQz_Iy",
    "outputId": "308fc2c2-883d-41fe-c629-ee823135766e"
   },
   "outputs": [
    {
     "data": {
      "image/png": "[encoded data removed]",
      "text/plain": [
       "<Figure size 1440x288 with 20 Axes>"
      ]
     },
     "metadata": {
      "tags": []
     },
     "output_type": "display_data"
    }
   ],
   "source": [
    "n = 10  # number of images to plot\n",
    "indices = np.random.choice(len(x_test), size=n, replace=False)\n",
    "test_imgs = x_test[indices]\n",
    "reconstr_imgs = autoencoder.predict(test_imgs)\n",
    "\n",
    "plt.figure(figsize=(20, 4))\n",
    "for i in range(n):\n",
    "    # display original\n",
    "    ax = plt.subplot(2, n, i + 1)\n",
    "    plt.imshow(test_imgs[i].reshape(32, 32))\n",
    "    plt.gray()\n",
    "    ax.get_xaxis().set_visible(False)\n",
    "    ax.get_yaxis().set_visible(False)\n",
    "\n",
    "    # display reconstruction\n",
    "    ax = plt.subplot(2, n, i + 1 + n)\n",
    "    plt.imshow(reconstr_imgs[i].reshape(32, 32))\n",
    "    plt.gray()\n",
    "    ax.get_xaxis().set_visible(False)\n",
    "    ax.get_yaxis().set_visible(False)\n",
    "plt.show()"
   ]
  }
 ],
 "metadata": {
  "accelerator": "GPU",
  "colab": {
   "collapsed_sections": [],
   "name": "practical_convolutional_autoencoder_solution.ipynb",
   "provenance": [],
   "version": "0.3.2"
  },
  "kernelspec": {
   "display_name": "Python 3",
   "language": "python",
   "name": "python3"
  },
  "language_info": {
   "codemirror_mode": {
    "name": "ipython",
    "version": 3
   },
   "file_extension": ".py",
   "mimetype": "text/x-python",
   "name": "python",
   "nbconvert_exporter": "python",
   "pygments_lexer": "ipython3",
   "version": "3.6.5"
  }
 },
 "nbformat": 4,
 "nbformat_minor": 1
}
