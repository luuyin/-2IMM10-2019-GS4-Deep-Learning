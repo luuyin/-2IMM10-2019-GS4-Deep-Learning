{
 "cells": [
  {
   "cell_type": "markdown",
   "metadata": {
    "colab_type": "text",
    "id": "uj4T8PEHGbMF"
   },
   "source": [
    "# Assignment 3\n",
    "## Question 1: Siamese networks & one-shot learning (8pt)\n",
    "The Cifar-100 dataset is similar to the Cifar-10 dataset. It also consists of 60,000 32x32 RGB images, but they are distributed over 100 classes instead of 10. Thus, each class has much less examples, only 500 training images and 100 testing images per class. For more info about the dataset, see https://www.cs.toronto.edu/~kriz/cifar.html.\n",
    "\n",
    "*HINT: Import the Cifar-100 dataset directly from Keras, no need to download it from the website. Use* `label_mode=\"fine\"`\n",
    "\n",
    "### Task 1.1: Siamese network\n",
    "**a)**\n",
    "* Train a Siamese Network on the first 80 classes of (the training set of) Cifar-100, i.e. let the network predict the probability that two input images are from the same class. Use 1 as a target for pairs of images from the same class (positive pairs), and 0 for pairs of images from different classes (negative pairs). Randomly select image pairs from Cifar-100, but make sure you train on as many positive pairs as negative pairs.\n",
    "\n",
    "* Evaluate the performance of the network on 20-way one-shot learning tasks. Do this by generating 250 random tasks and obtain the average accuracy for each evaluation round. Use the remaining 20 classes that were not used for training. The model should perform better than random guessing.\n",
    "\n",
    "For this question you may ignore the test set of Cifar-100; it suffices to use only the training set and split this, using the first 80 classes for training and the remaining 20 classes for one-shot testing.\n",
    "\n",
    "*HINT: First sort the data by their labels (see e.g.* `numpy.argsort()`*), then reshape the data to a shape of* `(n_classes, n_examples, width, height, depth)`*, similar to the Omniglot data in Practical 4. It is then easier to split the data by class, and to sample positive and negative images pairs for training the Siamese network.*\n",
    "\n",
    "*NOTE: do not expect the one-shot accuracy for Cifar-100 to be similar to that accuracy for Omniglot; a lower accuracy can be expected. However, accuracy higher than random guess is certainly achievable.*"
   ]
  },
  {
   "cell_type": "code",
   "execution_count": 3,
   "metadata": {
    "colab": {
     "autoexec": {
      "startup": false,
      "wait_interval": 0
     },
     "base_uri": "https://localhost:8080/",
     "height": 34,
     "output_extras": [
      {
       "item_id": 1
      }
     ]
    },
    "colab_type": "code",
    "executionInfo": {
     "elapsed": 7637,
     "status": "ok",
     "timestamp": 1521032642324,
     "user": {
      "displayName": "Loek Tonnaer",
      "photoUrl": "https://lh3.googleusercontent.com/a/default-user=s128",
      "userId": "113849499377556963886"
     },
     "user_tz": -60
    },
    "id": "MUtFUcp9GbMG",
    "outputId": "3e03b53f-309c-47ee-d4b9-e796b4104c4c"
   },
   "outputs": [
    {
     "name": "stderr",
     "output_type": "stream",
     "text": [
      "Using TensorFlow backend.\n"
     ]
    }
   ],
   "source": [
    "import numpy as np\n",
    "from keras.models import Sequential, Model\n",
    "from keras.layers import Input, Conv2D, Lambda, Dense, Flatten, MaxPooling2D, Dropout, BatchNormalization\n",
    "from keras import backend as K\n",
    "from keras.utils import to_categorical\n",
    "from keras.regularizers import l2\n",
    "import os\n",
    "from sklearn.utils import shuffle\n",
    "import matplotlib.pyplot as plt\n",
    "%matplotlib inline"
   ]
  },
  {
   "cell_type": "code",
   "execution_count": 0,
   "metadata": {
    "colab": {
     "autoexec": {
      "startup": false,
      "wait_interval": 0
     }
    },
    "colab_type": "code",
    "collapsed": true,
    "id": "NYuDudaRGbMK"
   },
   "outputs": [],
   "source": [
    "from keras.datasets import cifar100\n",
    "import pickle\n",
    "\n",
    "# load the dataset\n",
    "(x_train, y_train), (x_test, y_test) = cifar100.load_data(label_mode=\"fine\")\n",
    "y_train = y_train.flatten()\n",
    "y_test = y_test.flatten()\n",
    "\n",
    "# transform the dataset\n",
    "img_rows, img_cols, chns = 32, 32, 3\n",
    "n_classes = 100\n",
    "\n",
    "if K.image_data_format() == 'channels_first':\n",
    "    x_train = x_train.reshape(x_train.shape[0], chns, img_rows, img_cols)\n",
    "    x_test = x_test.reshape(x_test.shape[0], chns, img_rows, img_cols)\n",
    "    input_shape = (chns, img_rows, img_cols)\n",
    "else:\n",
    "    x_train = x_train.reshape(x_train.shape[0], img_rows, img_cols, chns)\n",
    "    x_test = x_test.reshape(x_test.shape[0], img_rows, img_cols, chns)\n",
    "    input_shape = (img_rows, img_cols, chns)\n",
    "\n",
    "# normalise the data\n",
    "x_train = x_train.astype('float32')\n",
    "x_test = x_test.astype('float32')\n",
    "x_train /= 255\n",
    "x_test /= 255\n",
    "\n",
    "# find the order of indices that sort the datasets by label\n",
    "sort_indices_train = y_train.argsort()\n",
    "sort_indices_test = y_test.argsort()\n",
    "\n",
    "# sort the data by label, and reshape into (n_classes, n_examples, width, height, depth)\n",
    "x_train_sorted = x_train[sort_indices_train]\n",
    "x_test_sorted = x_test[sort_indices_test]\n",
    "x_train_sorted = x_train_sorted.reshape(100, 500, img_rows, img_cols, chns)\n",
    "x_test_sorted = x_test_sorted.reshape(100, 100, img_rows, img_cols, chns)\n",
    "\n",
    "# sort the labels\n",
    "y_train_sorted = y_train[sort_indices_train]\n",
    "y_test_sorted = y_test[sort_indices_test]\n",
    "\n",
    "# split the data 80/20\n",
    "x_train_80 = x_train_sorted[:80, :, :, :, :]\n",
    "x_test_80 = x_test_sorted[:80, :, :, :, :]\n",
    "x_train_20 = x_train_sorted[80:, :, :, :, :]\n",
    "x_test_20 = x_test_sorted[80:, :, :, :, :]\n",
    "y_train_80 = y_train_sorted[:80*500]\n",
    "y_test_80 = y_test_sorted[:80*100]\n",
    "y_train_20 = y_train_sorted[80*500:]\n",
    "y_test_20 = y_test_sorted[80*100:]"
   ]
  },
  {
   "cell_type": "code",
   "execution_count": 5,
   "metadata": {
    "colab": {
     "autoexec": {
      "startup": false,
      "wait_interval": 0
     },
     "base_uri": "https://localhost:8080/",
     "height": 756,
     "output_extras": [
      {
       "item_id": 2
      }
     ]
    },
    "colab_type": "code",
    "executionInfo": {
     "elapsed": 1542,
     "status": "ok",
     "timestamp": 1521032665453,
     "user": {
      "displayName": "Loek Tonnaer",
      "photoUrl": "https://lh3.googleusercontent.com/a/default-user=s128",
      "userId": "113849499377556963886"
     },
     "user_tz": -60
    },
    "id": "UpEQTLtZ0Yby",
    "outputId": "7cd08fbe-f45b-465d-9eb8-877c68c12f90"
   },
   "outputs": [
    {
     "name": "stdout",
     "output_type": "stream",
     "text": [
      "_________________________________________________________________\n",
      "Layer (type)                 Output Shape              Param #   \n",
      "=================================================================\n",
      "conv2d_1 (Conv2D)            (None, 30, 30, 32)        896       \n",
      "_________________________________________________________________\n",
      "batch_normalization_1 (Batch (None, 30, 30, 32)        128       \n",
      "_________________________________________________________________\n",
      "dropout_1 (Dropout)          (None, 30, 30, 32)        0         \n",
      "_________________________________________________________________\n",
      "conv2d_2 (Conv2D)            (None, 28, 28, 64)        18496     \n",
      "_________________________________________________________________\n",
      "max_pooling2d_1 (MaxPooling2 (None, 14, 14, 64)        0         \n",
      "_________________________________________________________________\n",
      "batch_normalization_2 (Batch (None, 14, 14, 64)        256       \n",
      "_________________________________________________________________\n",
      "dropout_2 (Dropout)          (None, 14, 14, 64)        0         \n",
      "_________________________________________________________________\n",
      "flatten_1 (Flatten)          (None, 12544)             0         \n",
      "_________________________________________________________________\n",
      "dense_1 (Dense)              (None, 4096)              51384320  \n",
      "=================================================================\n",
      "Total params: 51,404,096\n",
      "Trainable params: 51,403,904\n",
      "Non-trainable params: 192\n",
      "_________________________________________________________________\n",
      "__________________________________________________________________________________________________\n",
      "Layer (type)                    Output Shape         Param #     Connected to                     \n",
      "==================================================================================================\n",
      "input_1 (InputLayer)            (None, 32, 32, 3)    0                                            \n",
      "__________________________________________________________________________________________________\n",
      "input_2 (InputLayer)            (None, 32, 32, 3)    0                                            \n",
      "__________________________________________________________________________________________________\n",
      "sequential_1 (Sequential)       (None, 4096)         51404096    input_1[0][0]                    \n",
      "                                                                 input_2[0][0]                    \n",
      "__________________________________________________________________________________________________\n",
      "lambda_1 (Lambda)               (None, 4096)         0           sequential_1[1][0]               \n",
      "                                                                 sequential_1[2][0]               \n",
      "__________________________________________________________________________________________________\n",
      "dense_2 (Dense)                 (None, 1)            4097        lambda_1[0][0]                   \n",
      "==================================================================================================\n",
      "Total params: 51,408,193\n",
      "Trainable params: 51,408,001\n",
      "Non-trainable params: 192\n",
      "__________________________________________________________________________________________________\n"
     ]
    }
   ],
   "source": [
    "left_input = Input(input_shape)\n",
    "right_input = Input(input_shape)\n",
    "\n",
    "# build convnet to use in each siamese \"leg\"\n",
    "convnet = Sequential()\n",
    "\n",
    "convnet.add(Conv2D(32, kernel_size=(3, 3), activation='relu', input_shape=input_shape))\n",
    "convnet.add(BatchNormalization())\n",
    "convnet.add(Dropout(0.5))\n",
    "convnet.add(Conv2D(64, kernel_size=(3, 3), activation='relu'))\n",
    "convnet.add(MaxPooling2D(pool_size=(2, 2)))\n",
    "convnet.add(BatchNormalization())\n",
    "convnet.add(Dropout(0.5))\n",
    "\n",
    "convnet.add(Flatten())\n",
    "convnet.add(Dense(4096, activation='sigmoid'))\n",
    "\n",
    "convnet.summary()\n",
    "\n",
    "# encode each of the two inputs into a vector with the convnet\n",
    "encoded_l = convnet(left_input)\n",
    "encoded_r = convnet(right_input)\n",
    "\n",
    "# merge two encoded inputs with the L1 distance between them, and connect to prediction output layer\n",
    "L1_distance = lambda x: K.abs(x[0]-x[1])\n",
    "both = Lambda(L1_distance)([encoded_l, encoded_r])\n",
    "prediction = Dense(1, activation='sigmoid')(both)\n",
    "siamese_net = Model(inputs=[left_input,right_input], outputs=prediction)\n",
    "\n",
    "\n",
    "siamese_net.compile(loss=\"binary_crossentropy\", optimizer=\"adam\")\n",
    "\n",
    "siamese_net.summary()"
   ]
  },
  {
   "cell_type": "code",
   "execution_count": 0,
   "metadata": {
    "colab": {
     "autoexec": {
      "startup": false,
      "wait_interval": 0
     }
    },
    "colab_type": "code",
    "collapsed": true,
    "id": "mjt6sGa89O5A"
   },
   "outputs": [],
   "source": [
    "def get_batch(batch_size, X):\n",
    "    \"\"\"Create batch of n pairs, half same class, half different class\"\"\"\n",
    "    n_classes, n_examples, w, h, d = X.shape\n",
    "    # randomly sample several classes to use in the batch\n",
    "    categories = np.random.choice(n_classes, size=(batch_size,), replace=False)\n",
    "    # initialize 2 empty arrays for the input image batch\n",
    "    pairs = [np.zeros((batch_size, h, w, d)) for i in range(2)]\n",
    "    # initialize vector for the targets, and make one half of it '1's, so 2nd half of batch has same class\n",
    "    targets = np.zeros((batch_size,))\n",
    "    targets[batch_size//2:] = 1\n",
    "    for i in range(batch_size):\n",
    "        category = categories[i]\n",
    "        idx_1 = np.random.randint(0, n_examples)\n",
    "        pairs[0][i, :, :, :] = X[category, idx_1].reshape(w, h, d)\n",
    "        idx_2 = np.random.randint(0, n_examples)\n",
    "        # pick images of same class for 1st half, different for 2nd\n",
    "        if i >= batch_size // 2:\n",
    "            category_2 = category\n",
    "        else:\n",
    "            #add a random number to the category modulo n_classes to ensure 2nd image has different category\n",
    "            category_2 = (category + np.random.randint(1,n_classes)) % n_classes\n",
    "        pairs[1][i, :, :, :] = X[category_2,idx_2].reshape(w, h, d)\n",
    "    return pairs, targets\n",
    "\n",
    "def batch_generator(batch_size, X):\n",
    "    \"\"\"a generator for batches, so model.fit_generator can be used. \"\"\"\n",
    "    while True:\n",
    "        pairs, targets = get_batch(batch_size, X)\n",
    "        yield (pairs, targets)\n",
    "\n",
    "def train(model, X_train, batch_size=64, steps_per_epoch=100, epochs=1):\n",
    "    model.fit_generator(batch_generator(batch_size, X_train), steps_per_epoch=steps_per_epoch, epochs=epochs)"
   ]
  },
  {
   "cell_type": "code",
   "execution_count": 0,
   "metadata": {
    "colab": {
     "autoexec": {
      "startup": false,
      "wait_interval": 0
     }
    },
    "colab_type": "code",
    "collapsed": true,
    "id": "lEZrudhXNweZ"
   },
   "outputs": [],
   "source": [
    "def make_oneshot_task(N, X):\n",
    "    \"\"\"Create pairs of (test image, support set image) with ground truth, for testing N-way one-shot learning.\"\"\"\n",
    "    n_classes, n_examples, w, h, d = X.shape\n",
    "    indices = np.random.randint(0, n_examples, size=(N,))\n",
    "    categories = np.random.choice(range(n_classes), size=(N,), replace=False)            \n",
    "    true_category = categories[0]\n",
    "    ex1, ex2 = np.random.choice(n_examples, replace=False, size=(2,))\n",
    "    test_image = np.asarray([X[true_category, ex1, :, :, :]]*N).reshape(N, w, h, d)\n",
    "    support_set = X[categories, indices, :, :, :]\n",
    "    support_set[0, :, :] = X[true_category, ex2]\n",
    "    support_set = support_set.reshape(N, w, h, d)\n",
    "    targets = np.zeros((N,))\n",
    "    targets[0] = 1\n",
    "    targets, test_image, support_set = shuffle(targets, test_image, support_set)\n",
    "    pairs = [test_image, support_set]\n",
    "    return pairs, targets\n",
    "\n",
    "def test_oneshot(model, X, N=20, k=250, verbose=True):\n",
    "    \"\"\"Test average N-way oneshot learning accuracy of a siamese neural net over k one-shot tasks.\"\"\"\n",
    "    n_correct = 0\n",
    "    if verbose:\n",
    "        print(\"Evaluating model on {} random {}-way one-shot learning tasks ...\".format(k, N))\n",
    "    for i in range(k):\n",
    "        inputs, targets = make_oneshot_task(N, X)\n",
    "        probs = model.predict(inputs)\n",
    "        if np.argmax(probs) == np.argmax(targets):\n",
    "            n_correct += 1\n",
    "    percent_correct = (100.0*n_correct / k)\n",
    "    if verbose:\n",
    "        print(\"Got an average of {}% accuracy for {}-way one-shot learning\".format(percent_correct, N))\n",
    "    return percent_correct"
   ]
  },
  {
   "cell_type": "code",
   "execution_count": 0,
   "metadata": {
    "colab": {
     "autoexec": {
      "startup": false,
      "wait_interval": 0
     }
    },
    "colab_type": "code",
    "collapsed": true,
    "id": "SkOIA1V9PBTc"
   },
   "outputs": [],
   "source": [
    "def concat_images(X):\n",
    "    \"\"\"Concatenates a bunch of images into a big matrix for plotting purposes.\"\"\"\n",
    "    nc,h,w,d = X.shape\n",
    "    n = np.ceil(np.sqrt(nc)).astype(\"int8\")\n",
    "    img = np.zeros((n*w,n*h,d))\n",
    "    x = 0\n",
    "    y = 0\n",
    "    for example in range(nc):\n",
    "        img[x*w:(x+1)*w,y*h:(y+1)*h,:] = X[example]\n",
    "        y += 1\n",
    "        if y >= n:\n",
    "            y = 0\n",
    "            x += 1\n",
    "    return img\n",
    "\n",
    "def plot_oneshot_task(pairs):\n",
    "    \"\"\"Takes a one-shot task given to a siamese net and  \"\"\"\n",
    "    fig,(ax1,ax2) = plt.subplots(2)\n",
    "    ax1.imshow(pairs[0][0])\n",
    "    img = concat_images(pairs[1])\n",
    "    ax1.get_yaxis().set_visible(False)\n",
    "    ax1.get_xaxis().set_visible(False)\n",
    "    ax2.imshow(img)\n",
    "    plt.xticks([])\n",
    "    plt.yticks([])\n",
    "    plt.show()"
   ]
  },
  {
   "cell_type": "code",
   "execution_count": 9,
   "metadata": {
    "colab": {
     "autoexec": {
      "startup": false,
      "wait_interval": 0
     },
     "base_uri": "https://localhost:8080/",
     "height": 248,
     "output_extras": [
      {
       "item_id": 1
      }
     ]
    },
    "colab_type": "code",
    "executionInfo": {
     "elapsed": 753,
     "status": "ok",
     "timestamp": 1521032668201,
     "user": {
      "displayName": "Loek Tonnaer",
      "photoUrl": "https://lh3.googleusercontent.com/a/default-user=s128",
      "userId": "113849499377556963886"
     },
     "user_tz": -60
    },
    "id": "tVCEAF2mQPt9",
    "outputId": "e0cbbe71-c10b-4ca8-9989-f4f0cc98b075"
   },
   "outputs": [
    {
     "data": {
      "image/png": "[encoded data removed]",
      "text/plain": [
       "<matplotlib.figure.Figure at 0x7fad760644a8>"
      ]
     },
     "metadata": {
      "tags": []
     },
     "output_type": "display_data"
    }
   ],
   "source": [
    "pairs, targets = make_oneshot_task(20, x_train_20)\n",
    "plot_oneshot_task(pairs)"
   ]
  },
  {
   "cell_type": "code",
   "execution_count": 11,
   "metadata": {
    "colab": {
     "autoexec": {
      "startup": false,
      "wait_interval": 0
     },
     "base_uri": "https://localhost:8080/",
     "height": 17306,
     "output_extras": [
      {
       "item_id": 141
      },
      {
       "item_id": 254
      },
      {
       "item_id": 393
      },
      {
       "item_id": 449
      },
      {
       "item_id": 488
      },
      {
       "item_id": 528
      },
      {
       "item_id": 568
      },
      {
       "item_id": 608
      },
      {
       "item_id": 646
      },
      {
       "item_id": 681
      },
      {
       "item_id": 714
      },
      {
       "item_id": 754
      },
      {
       "item_id": 794
      },
      {
       "item_id": 834
      },
      {
       "item_id": 872
      },
      {
       "item_id": 913
      },
      {
       "item_id": 954
      },
      {
       "item_id": 994
      },
      {
       "item_id": 1034
      },
      {
       "item_id": 1075
      },
      {
       "item_id": 1114
      },
      {
       "item_id": 1155
      },
      {
       "item_id": 1194
      },
      {
       "item_id": 1234
      },
      {
       "item_id": 1275
      },
      {
       "item_id": 1314
      },
      {
       "item_id": 1354
      },
      {
       "item_id": 1395
      },
      {
       "item_id": 1435
      },
      {
       "item_id": 1473
      },
      {
       "item_id": 1508
      },
      {
       "item_id": 1542
      },
      {
       "item_id": 1582
      },
      {
       "item_id": 1622
      },
      {
       "item_id": 1662
      },
      {
       "item_id": 1699
      },
      {
       "item_id": 1732
      },
      {
       "item_id": 1769
      },
      {
       "item_id": 1808
      },
      {
       "item_id": 1848
      },
      {
       "item_id": 1889
      },
      {
       "item_id": 1928
      },
      {
       "item_id": 1969
      },
      {
       "item_id": 2007
      },
      {
       "item_id": 2046
      },
      {
       "item_id": 2079
      },
      {
       "item_id": 2116
      },
      {
       "item_id": 2155
      },
      {
       "item_id": 2194
      },
      {
       "item_id": 2234
      },
      {
       "item_id": 2273
      },
      {
       "item_id": 2312
      },
      {
       "item_id": 2352
      },
      {
       "item_id": 2392
      },
      {
       "item_id": 2431
      },
      {
       "item_id": 2471
      },
      {
       "item_id": 2512
      },
      {
       "item_id": 2551
      },
      {
       "item_id": 2592
      },
      {
       "item_id": 2629
      },
      {
       "item_id": 2662
      },
      {
       "item_id": 2699
      },
      {
       "item_id": 2738
      },
      {
       "item_id": 2777
      },
      {
       "item_id": 2817
      },
      {
       "item_id": 2858
      },
      {
       "item_id": 2897
      },
      {
       "item_id": 2937
      },
      {
       "item_id": 2963
      }
     ]
    },
    "colab_type": "code",
    "executionInfo": {
     "elapsed": 3026250,
     "status": "ok",
     "timestamp": 1520596811645,
     "user": {
      "displayName": "Loek Tonnaer",
      "photoUrl": "https://lh3.googleusercontent.com/a/default-user=s128",
      "userId": "113849499377556963886"
     },
     "user_tz": -60
    },
    "id": "JnjQhc93RKeG",
    "outputId": "556b321f-5f3c-4c78-edad-dcf9e63f390f"
   },
   "outputs": [
    {
     "name": "stdout",
     "output_type": "stream",
     "text": [
      "=== Training loop 1 ===\n",
      "Epoch 1/1\n",
      "100/100 [==============================] - 15s 149ms/step - loss: 0.8310\n",
      "Evaluating model on 250 random 20-way one-shot learning tasks ...\n",
      "Got an average of 9.6% accuracy for 20-way one-shot learning\n",
      "New best one-shot accuracy, saving model ...\n",
      "=== Training loop 2 ===\n",
      "Epoch 1/1\n",
      "100/100 [==============================] - 12s 119ms/step - loss: 0.7327\n",
      "Evaluating model on 250 random 20-way one-shot learning tasks ...\n",
      "Got an average of 7.2% accuracy for 20-way one-shot learning\n",
      "=== Training loop 3 ===\n",
      "Epoch 1/1\n",
      " 84/100 [========================>.....] - ETA: 1s - loss: 0.7085100/100 [==============================] - 12s 119ms/step - loss: 0.7045\n",
      "Evaluating model on 250 random 20-way one-shot learning tasks ...\n",
      "Got an average of 7.2% accuracy for 20-way one-shot learning\n",
      "=== Training loop 4 ===\n",
      "Epoch 1/1\n",
      "100/100 [==============================] - 12s 119ms/step - loss: 0.6873\n",
      "Evaluating model on 250 random 20-way one-shot learning tasks ...\n",
      "Got an average of 5.2% accuracy for 20-way one-shot learning\n",
      "=== Training loop 5 ===\n",
      "Epoch 1/1\n",
      "100/100 [==============================] - 12s 119ms/step - loss: 0.6834\n",
      "Evaluating model on 250 random 20-way one-shot learning tasks ...\n",
      "Got an average of 6.4% accuracy for 20-way one-shot learning\n",
      "=== Training loop 6 ===\n",
      "Epoch 1/1\n",
      " 18/100 [====>.........................] - ETA: 9s - loss: 0.6807100/100 [==============================] - 12s 119ms/step - loss: 0.6821\n",
      "Evaluating model on 250 random 20-way one-shot learning tasks ...\n",
      "Got an average of 7.2% accuracy for 20-way one-shot learning\n",
      "=== Training loop 7 ===\n",
      "Epoch 1/1\n",
      "100/100 [==============================] - 12s 119ms/step - loss: 0.6777\n",
      "Evaluating model on 250 random 20-way one-shot learning tasks ...\n",
      "Got an average of 11.6% accuracy for 20-way one-shot learning\n",
      "New best one-shot accuracy, saving model ...\n",
      "=== Training loop 8 ===\n",
      "Epoch 1/1\n",
      "100/100 [==============================] - 12s 119ms/step - loss: 0.6884\n",
      "Evaluating model on 250 random 20-way one-shot learning tasks ...\n",
      "Got an average of 7.6% accuracy for 20-way one-shot learning\n",
      "=== Training loop 9 ===\n",
      "Epoch 1/1\n",
      "  6/100 [>.............................] - ETA: 11s - loss: 0.6909100/100 [==============================] - 12s 119ms/step - loss: 0.6813\n",
      "Evaluating model on 250 random 20-way one-shot learning tasks ...\n",
      "Got an average of 8.8% accuracy for 20-way one-shot learning\n",
      "=== Training loop 10 ===\n",
      "Epoch 1/1\n",
      "100/100 [==============================] - 12s 120ms/step - loss: 0.6790\n",
      "Evaluating model on 250 random 20-way one-shot learning tasks ...\n",
      "Got an average of 9.2% accuracy for 20-way one-shot learning\n",
      "=== Training loop 11 ===\n",
      "Epoch 1/1\n",
      "100/100 [==============================] - 12s 120ms/step - loss: 0.6570\n",
      "Evaluating model on 250 random 20-way one-shot learning tasks ...\n",
      "Got an average of 7.6% accuracy for 20-way one-shot learning\n",
      "=== Training loop 12 ===\n",
      "Epoch 1/1\n",
      " 11/100 [==>...........................] - ETA: 10s - loss: 0.6828100/100 [==============================] - 12s 119ms/step - loss: 0.6789\n",
      "Evaluating model on 250 random 20-way one-shot learning tasks ...\n",
      "Got an average of 8.4% accuracy for 20-way one-shot learning\n",
      "=== Training loop 13 ===\n",
      "Epoch 1/1\n",
      "100/100 [==============================] - 12s 120ms/step - loss: 0.6632\n",
      "Evaluating model on 250 random 20-way one-shot learning tasks ...\n",
      "Got an average of 11.2% accuracy for 20-way one-shot learning\n",
      "=== Training loop 14 ===\n",
      "Epoch 1/1\n",
      "100/100 [==============================] - 12s 119ms/step - loss: 0.6663\n",
      "Evaluating model on 250 random 20-way one-shot learning tasks ...\n",
      "Got an average of 11.6% accuracy for 20-way one-shot learning\n",
      "New best one-shot accuracy, saving model ...\n",
      "=== Training loop 15 ===\n",
      "Epoch 1/1\n",
      " 11/100 [==>...........................] - ETA: 10s - loss: 0.6900100/100 [==============================] - 12s 120ms/step - loss: 0.6785\n",
      "Evaluating model on 250 random 20-way one-shot learning tasks ...\n",
      "Got an average of 10.8% accuracy for 20-way one-shot learning\n",
      "=== Training loop 16 ===\n",
      "Epoch 1/1\n",
      "100/100 [==============================] - 12s 120ms/step - loss: 0.6696\n",
      "Evaluating model on 250 random 20-way one-shot learning tasks ...\n",
      "Got an average of 13.2% accuracy for 20-way one-shot learning\n",
      "New best one-shot accuracy, saving model ...\n",
      "=== Training loop 17 ===\n",
      "Epoch 1/1\n",
      "100/100 [==============================] - 12s 120ms/step - loss: 0.6708\n",
      "Evaluating model on 250 random 20-way one-shot learning tasks ...\n",
      "Got an average of 8.4% accuracy for 20-way one-shot learning\n",
      "=== Training loop 18 ===\n",
      "Epoch 1/1\n",
      "  5/100 [>.............................] - ETA: 11s - loss: 0.6922100/100 [==============================] - 12s 120ms/step - loss: 0.6659\n",
      "Evaluating model on 250 random 20-way one-shot learning tasks ...\n",
      "Got an average of 10.8% accuracy for 20-way one-shot learning\n",
      "=== Training loop 19 ===\n",
      "Epoch 1/1\n",
      "100/100 [==============================] - 12s 120ms/step - loss: 0.6658\n",
      "Evaluating model on 250 random 20-way one-shot learning tasks ...\n",
      "Got an average of 7.6% accuracy for 20-way one-shot learning\n",
      "=== Training loop 20 ===\n",
      "Epoch 1/1\n",
      "100/100 [==============================] - 12s 120ms/step - loss: 0.6667\n",
      "Evaluating model on 250 random 20-way one-shot learning tasks ...\n",
      "Got an average of 8.0% accuracy for 20-way one-shot learning\n",
      "=== Training loop 21 ===\n",
      "Epoch 1/1\n",
      " 11/100 [==>...........................] - ETA: 10s - loss: 0.6674100/100 [==============================] - 12s 119ms/step - loss: 0.6612\n",
      "Evaluating model on 250 random 20-way one-shot learning tasks ...\n",
      "Got an average of 11.2% accuracy for 20-way one-shot learning\n",
      "=== Training loop 22 ===\n",
      "Epoch 1/1\n",
      "100/100 [==============================] - 12s 120ms/step - loss: 0.6600\n",
      "Evaluating model on 250 random 20-way one-shot learning tasks ...\n",
      "Got an average of 11.6% accuracy for 20-way one-shot learning\n",
      "=== Training loop 23 ===\n",
      "Epoch 1/1\n",
      "100/100 [==============================] - 12s 120ms/step - loss: 0.6623\n",
      "Evaluating model on 250 random 20-way one-shot learning tasks ...\n",
      "Got an average of 10.0% accuracy for 20-way one-shot learning\n",
      "=== Training loop 24 ===\n",
      "Epoch 1/1\n",
      " 11/100 [==>...........................] - ETA: 10s - loss: 0.6542100/100 [==============================] - 12s 120ms/step - loss: 0.6604\n",
      "Evaluating model on 250 random 20-way one-shot learning tasks ...\n",
      "Got an average of 14.8% accuracy for 20-way one-shot learning\n",
      "New best one-shot accuracy, saving model ...\n",
      "=== Training loop 25 ===\n",
      "Epoch 1/1\n",
      "100/100 [==============================] - 12s 120ms/step - loss: 0.6591\n",
      "Evaluating model on 250 random 20-way one-shot learning tasks ...\n",
      "Got an average of 14.0% accuracy for 20-way one-shot learning\n",
      "=== Training loop 26 ===\n",
      "Epoch 1/1\n",
      "100/100 [==============================] - 12s 120ms/step - loss: 0.6563\n",
      "Evaluating model on 250 random 20-way one-shot learning tasks ...\n",
      "Got an average of 12.0% accuracy for 20-way one-shot learning\n",
      "=== Training loop 27 ===\n",
      "Epoch 1/1\n",
      "100/100 [==============================] - 12s 119ms/step - loss: 0.6582\n",
      "Evaluating model on 250 random 20-way one-shot learning tasks ...\n",
      "Got an average of 10.0% accuracy for 20-way one-shot learning\n",
      "=== Training loop 28 ===\n",
      "Epoch 1/1\n",
      "100/100 [==============================] - 12s 119ms/step - loss: 0.6607\n",
      "Evaluating model on 250 random 20-way one-shot learning tasks ...\n",
      "Got an average of 13.2% accuracy for 20-way one-shot learning\n",
      "=== Training loop 29 ===\n",
      "Epoch 1/1\n",
      " 68/100 [===================>..........] - ETA: 3s - loss: 0.6655100/100 [==============================] - 12s 119ms/step - loss: 0.6620\n",
      "Evaluating model on 250 random 20-way one-shot learning tasks ...\n",
      "Got an average of 10.0% accuracy for 20-way one-shot learning\n",
      "=== Training loop 30 ===\n",
      "Epoch 1/1\n",
      "100/100 [==============================] - 12s 119ms/step - loss: 0.6497\n",
      "Evaluating model on 250 random 20-way one-shot learning tasks ...\n",
      "Got an average of 13.6% accuracy for 20-way one-shot learning\n",
      "=== Training loop 31 ===\n",
      "Epoch 1/1\n",
      "100/100 [==============================] - 12s 119ms/step - loss: 0.6572\n",
      "Evaluating model on 250 random 20-way one-shot learning tasks ...\n",
      "Got an average of 12.0% accuracy for 20-way one-shot learning\n",
      "=== Training loop 32 ===\n",
      "Epoch 1/1\n",
      " 16/100 [===>..........................] - ETA: 10s - loss: 0.6522100/100 [==============================] - 12s 120ms/step - loss: 0.6459\n",
      "Evaluating model on 250 random 20-way one-shot learning tasks ...\n",
      "Got an average of 4.4% accuracy for 20-way one-shot learning\n",
      "=== Training loop 33 ===\n",
      "Epoch 1/1\n",
      "100/100 [==============================] - 12s 119ms/step - loss: 0.6512\n",
      "Evaluating model on 250 random 20-way one-shot learning tasks ...\n",
      "Got an average of 6.0% accuracy for 20-way one-shot learning\n",
      "=== Training loop 34 ===\n",
      "Epoch 1/1\n",
      "100/100 [==============================] - 12s 119ms/step - loss: 0.6588\n",
      "Evaluating model on 250 random 20-way one-shot learning tasks ...\n",
      "Got an average of 12.8% accuracy for 20-way one-shot learning\n",
      "=== Training loop 35 ===\n",
      "Epoch 1/1\n",
      " 12/100 [==>...........................] - ETA: 10s - loss: 0.6479100/100 [==============================] - 12s 119ms/step - loss: 0.6502\n",
      "Evaluating model on 250 random 20-way one-shot learning tasks ...\n",
      "Got an average of 9.2% accuracy for 20-way one-shot learning\n",
      "=== Training loop 36 ===\n",
      "Epoch 1/1\n",
      "100/100 [==============================] - 12s 119ms/step - loss: 0.6519\n",
      "Evaluating model on 250 random 20-way one-shot learning tasks ...\n",
      "Got an average of 13.2% accuracy for 20-way one-shot learning\n",
      "=== Training loop 37 ===\n",
      "Epoch 1/1\n",
      "100/100 [==============================] - 12s 119ms/step - loss: 0.6532\n",
      "Evaluating model on 250 random 20-way one-shot learning tasks ...\n",
      "Got an average of 10.8% accuracy for 20-way one-shot learning\n",
      "=== Training loop 38 ===\n",
      "Epoch 1/1\n",
      " 12/100 [==>...........................] - ETA: 10s - loss: 0.6701100/100 [==============================] - 12s 120ms/step - loss: 0.6490\n",
      "Evaluating model on 250 random 20-way one-shot learning tasks ...\n",
      "Got an average of 12.0% accuracy for 20-way one-shot learning\n",
      "=== Training loop 39 ===\n",
      "Epoch 1/1\n",
      "100/100 [==============================] - 12s 119ms/step - loss: 0.6434\n",
      "Evaluating model on 250 random 20-way one-shot learning tasks ...\n",
      "Got an average of 9.6% accuracy for 20-way one-shot learning\n",
      "=== Training loop 40 ===\n",
      "Epoch 1/1\n",
      "100/100 [==============================] - 12s 119ms/step - loss: 0.6521\n",
      "Evaluating model on 250 random 20-way one-shot learning tasks ...\n",
      "Got an average of 13.6% accuracy for 20-way one-shot learning\n",
      "=== Training loop 41 ===\n",
      "Epoch 1/1\n",
      " 12/100 [==>...........................] - ETA: 10s - loss: 0.6286100/100 [==============================] - 12s 119ms/step - loss: 0.6468\n",
      "Evaluating model on 250 random 20-way one-shot learning tasks ...\n",
      "Got an average of 12.4% accuracy for 20-way one-shot learning\n",
      "=== Training loop 42 ===\n",
      "Epoch 1/1\n",
      "100/100 [==============================] - 12s 119ms/step - loss: 0.6537\n",
      "Evaluating model on 250 random 20-way one-shot learning tasks ...\n",
      "Got an average of 15.6% accuracy for 20-way one-shot learning\n",
      "New best one-shot accuracy, saving model ...\n",
      "=== Training loop 43 ===\n",
      "Epoch 1/1\n",
      "100/100 [==============================] - 12s 119ms/step - loss: 0.6465\n",
      "Evaluating model on 250 random 20-way one-shot learning tasks ...\n",
      "Got an average of 15.6% accuracy for 20-way one-shot learning\n",
      "New best one-shot accuracy, saving model ...\n",
      "=== Training loop 44 ===\n",
      "Epoch 1/1\n",
      "  5/100 [>.............................] - ETA: 11s - loss: 0.6344100/100 [==============================] - 12s 120ms/step - loss: 0.6448\n",
      "Evaluating model on 250 random 20-way one-shot learning tasks ...\n",
      "Got an average of 11.2% accuracy for 20-way one-shot learning\n",
      "=== Training loop 45 ===\n",
      "Epoch 1/1\n",
      "100/100 [==============================] - 12s 119ms/step - loss: 0.6442\n",
      "Evaluating model on 250 random 20-way one-shot learning tasks ...\n",
      "Got an average of 8.8% accuracy for 20-way one-shot learning\n",
      "=== Training loop 46 ===\n",
      "Epoch 1/1\n",
      "100/100 [==============================] - 12s 120ms/step - loss: 0.6416\n",
      "Evaluating model on 250 random 20-way one-shot learning tasks ...\n",
      "Got an average of 12.4% accuracy for 20-way one-shot learning\n",
      "=== Training loop 47 ===\n",
      "Epoch 1/1\n",
      " 11/100 [==>...........................] - ETA: 10s - loss: 0.6574100/100 [==============================] - 12s 119ms/step - loss: 0.6524\n",
      "Evaluating model on 250 random 20-way one-shot learning tasks ...\n",
      "Got an average of 11.6% accuracy for 20-way one-shot learning\n",
      "=== Training loop 48 ===\n",
      "Epoch 1/1\n",
      "100/100 [==============================] - 12s 119ms/step - loss: 0.6499\n",
      "Evaluating model on 250 random 20-way one-shot learning tasks ...\n",
      "Got an average of 15.2% accuracy for 20-way one-shot learning\n",
      "=== Training loop 49 ===\n",
      "Epoch 1/1\n",
      "100/100 [==============================] - 12s 120ms/step - loss: 0.6423\n",
      "Evaluating model on 250 random 20-way one-shot learning tasks ...\n",
      "Got an average of 11.2% accuracy for 20-way one-shot learning\n",
      "=== Training loop 50 ===\n",
      "Epoch 1/1\n",
      " 11/100 [==>...........................] - ETA: 10s - loss: 0.6371100/100 [==============================] - 12s 119ms/step - loss: 0.6330\n",
      "Evaluating model on 250 random 20-way one-shot learning tasks ...\n",
      "Got an average of 10.4% accuracy for 20-way one-shot learning\n",
      "=== Training loop 51 ===\n",
      "Epoch 1/1\n",
      "100/100 [==============================] - 12s 119ms/step - loss: 0.6510\n",
      "Evaluating model on 250 random 20-way one-shot learning tasks ...\n",
      "Got an average of 9.2% accuracy for 20-way one-shot learning\n",
      "=== Training loop 52 ===\n",
      "Epoch 1/1\n",
      "100/100 [==============================] - 12s 120ms/step - loss: 0.6387\n",
      "Evaluating model on 250 random 20-way one-shot learning tasks ...\n",
      "Got an average of 14.4% accuracy for 20-way one-shot learning\n",
      "=== Training loop 53 ===\n",
      "Epoch 1/1\n",
      " 11/100 [==>...........................] - ETA: 10s - loss: 0.6585100/100 [==============================] - 12s 119ms/step - loss: 0.6364\n",
      "Evaluating model on 250 random 20-way one-shot learning tasks ...\n",
      "Got an average of 14.4% accuracy for 20-way one-shot learning\n",
      "=== Training loop 54 ===\n",
      "Epoch 1/1\n",
      "100/100 [==============================] - 12s 120ms/step - loss: 0.6467\n",
      "Evaluating model on 250 random 20-way one-shot learning tasks ...\n",
      "Got an average of 12.0% accuracy for 20-way one-shot learning\n",
      "=== Training loop 55 ===\n",
      "Epoch 1/1\n",
      "100/100 [==============================] - 12s 119ms/step - loss: 0.6418\n",
      "Evaluating model on 250 random 20-way one-shot learning tasks ...\n",
      "Got an average of 16.0% accuracy for 20-way one-shot learning\n",
      "New best one-shot accuracy, saving model ...\n",
      "=== Training loop 56 ===\n",
      "Epoch 1/1\n",
      " 11/100 [==>...........................] - ETA: 10s - loss: 0.6511100/100 [==============================] - 12s 119ms/step - loss: 0.6537\n",
      "Evaluating model on 250 random 20-way one-shot learning tasks ...\n",
      "Got an average of 14.0% accuracy for 20-way one-shot learning\n",
      "=== Training loop 57 ===\n",
      "Epoch 1/1\n",
      "100/100 [==============================] - 12s 119ms/step - loss: 0.6421\n",
      "Evaluating model on 250 random 20-way one-shot learning tasks ...\n",
      "Got an average of 12.4% accuracy for 20-way one-shot learning\n",
      "=== Training loop 58 ===\n",
      "Epoch 1/1\n",
      "100/100 [==============================] - 12s 120ms/step - loss: 0.6468\n",
      "Evaluating model on 250 random 20-way one-shot learning tasks ...\n",
      "Got an average of 10.8% accuracy for 20-way one-shot learning\n",
      "=== Training loop 59 ===\n",
      "Epoch 1/1\n",
      " 11/100 [==>...........................] - ETA: 10s - loss: 0.6585100/100 [==============================] - 12s 119ms/step - loss: 0.6376\n",
      "Evaluating model on 250 random 20-way one-shot learning tasks ...\n",
      "Got an average of 13.6% accuracy for 20-way one-shot learning\n",
      "=== Training loop 60 ===\n",
      "Epoch 1/1\n",
      "100/100 [==============================] - 12s 120ms/step - loss: 0.6396\n",
      "Evaluating model on 250 random 20-way one-shot learning tasks ...\n",
      "Got an average of 12.4% accuracy for 20-way one-shot learning\n",
      "=== Training loop 61 ===\n",
      "Epoch 1/1\n",
      "100/100 [==============================] - 12s 120ms/step - loss: 0.6345\n",
      "Evaluating model on 250 random 20-way one-shot learning tasks ...\n",
      "Got an average of 9.6% accuracy for 20-way one-shot learning\n",
      "=== Training loop 62 ===\n",
      "Epoch 1/1\n",
      " 11/100 [==>...........................] - ETA: 10s - loss: 0.6418100/100 [==============================] - 12s 119ms/step - loss: 0.6364\n",
      "Evaluating model on 250 random 20-way one-shot learning tasks ...\n",
      "Got an average of 10.4% accuracy for 20-way one-shot learning\n",
      "=== Training loop 63 ===\n",
      "Epoch 1/1\n",
      "100/100 [==============================] - 12s 119ms/step - loss: 0.6465\n",
      "Evaluating model on 250 random 20-way one-shot learning tasks ...\n",
      "Got an average of 14.4% accuracy for 20-way one-shot learning\n",
      "=== Training loop 64 ===\n",
      "Epoch 1/1\n",
      "100/100 [==============================] - 12s 119ms/step - loss: 0.6391\n",
      "Evaluating model on 250 random 20-way one-shot learning tasks ...\n",
      "Got an average of 11.6% accuracy for 20-way one-shot learning\n",
      "=== Training loop 65 ===\n",
      "Epoch 1/1\n"
     ]
    },
    {
     "name": "stdout",
     "output_type": "stream",
     "text": [
      " 11/100 [==>...........................] - ETA: 10s - loss: 0.6453100/100 [==============================] - 12s 119ms/step - loss: 0.6446\n",
      "Evaluating model on 250 random 20-way one-shot learning tasks ...\n",
      "Got an average of 14.4% accuracy for 20-way one-shot learning\n",
      "=== Training loop 66 ===\n",
      "Epoch 1/1\n",
      "100/100 [==============================] - 12s 120ms/step - loss: 0.6369\n",
      "Evaluating model on 250 random 20-way one-shot learning tasks ...\n",
      "Got an average of 12.4% accuracy for 20-way one-shot learning\n",
      "=== Training loop 67 ===\n",
      "Epoch 1/1\n",
      "100/100 [==============================] - 12s 120ms/step - loss: 0.6387\n",
      "Evaluating model on 250 random 20-way one-shot learning tasks ...\n",
      "Got an average of 15.2% accuracy for 20-way one-shot learning\n",
      "=== Training loop 68 ===\n",
      "Epoch 1/1\n",
      " 11/100 [==>...........................] - ETA: 10s - loss: 0.6410100/100 [==============================] - 12s 119ms/step - loss: 0.6533\n",
      "Evaluating model on 250 random 20-way one-shot learning tasks ...\n",
      "Got an average of 14.8% accuracy for 20-way one-shot learning\n",
      "=== Training loop 69 ===\n",
      "Epoch 1/1\n",
      "100/100 [==============================] - 12s 120ms/step - loss: 0.6433\n",
      "Evaluating model on 250 random 20-way one-shot learning tasks ...\n",
      "Got an average of 11.2% accuracy for 20-way one-shot learning\n",
      "=== Training loop 70 ===\n",
      "Epoch 1/1\n",
      "100/100 [==============================] - 12s 119ms/step - loss: 0.6328\n",
      "Evaluating model on 250 random 20-way one-shot learning tasks ...\n",
      "Got an average of 10.8% accuracy for 20-way one-shot learning\n",
      "=== Training loop 71 ===\n",
      "Epoch 1/1\n",
      " 11/100 [==>...........................] - ETA: 10s - loss: 0.6396100/100 [==============================] - 12s 120ms/step - loss: 0.6441\n",
      "Evaluating model on 250 random 20-way one-shot learning tasks ...\n",
      "Got an average of 10.8% accuracy for 20-way one-shot learning\n",
      "=== Training loop 72 ===\n",
      "Epoch 1/1\n",
      "100/100 [==============================] - 12s 119ms/step - loss: 0.6246\n",
      "Evaluating model on 250 random 20-way one-shot learning tasks ...\n",
      "Got an average of 14.8% accuracy for 20-way one-shot learning\n",
      "=== Training loop 73 ===\n",
      "Epoch 1/1\n",
      "100/100 [==============================] - 12s 119ms/step - loss: 0.6439\n",
      "Evaluating model on 250 random 20-way one-shot learning tasks ...\n",
      "Got an average of 15.6% accuracy for 20-way one-shot learning\n",
      "=== Training loop 74 ===\n",
      "Epoch 1/1\n",
      " 11/100 [==>...........................] - ETA: 10s - loss: 0.6478100/100 [==============================] - 12s 119ms/step - loss: 0.6393\n",
      "Evaluating model on 250 random 20-way one-shot learning tasks ...\n",
      "Got an average of 10.4% accuracy for 20-way one-shot learning\n",
      "=== Training loop 75 ===\n",
      "Epoch 1/1\n",
      "100/100 [==============================] - 12s 119ms/step - loss: 0.6407\n",
      "Evaluating model on 250 random 20-way one-shot learning tasks ...\n",
      "Got an average of 15.6% accuracy for 20-way one-shot learning\n",
      "=== Training loop 76 ===\n",
      "Epoch 1/1\n",
      "100/100 [==============================] - 12s 119ms/step - loss: 0.6303\n",
      "Evaluating model on 250 random 20-way one-shot learning tasks ...\n",
      "Got an average of 12.0% accuracy for 20-way one-shot learning\n",
      "=== Training loop 77 ===\n",
      "Epoch 1/1\n",
      " 11/100 [==>...........................] - ETA: 10s - loss: 0.6385100/100 [==============================] - 12s 120ms/step - loss: 0.6256\n",
      "Evaluating model on 250 random 20-way one-shot learning tasks ...\n",
      "Got an average of 10.4% accuracy for 20-way one-shot learning\n",
      "=== Training loop 78 ===\n",
      "Epoch 1/1\n",
      "100/100 [==============================] - 12s 120ms/step - loss: 0.6430\n",
      "Evaluating model on 250 random 20-way one-shot learning tasks ...\n",
      "Got an average of 13.6% accuracy for 20-way one-shot learning\n",
      "=== Training loop 79 ===\n",
      "Epoch 1/1\n",
      "100/100 [==============================] - 12s 119ms/step - loss: 0.6328\n",
      "Evaluating model on 250 random 20-way one-shot learning tasks ...\n",
      "Got an average of 16.8% accuracy for 20-way one-shot learning\n",
      "New best one-shot accuracy, saving model ...\n",
      "=== Training loop 80 ===\n",
      "Epoch 1/1\n",
      " 11/100 [==>...........................] - ETA: 10s - loss: 0.6403100/100 [==============================] - 12s 119ms/step - loss: 0.6362\n",
      "Evaluating model on 250 random 20-way one-shot learning tasks ...\n",
      "Got an average of 14.8% accuracy for 20-way one-shot learning\n",
      "=== Training loop 81 ===\n",
      "Epoch 1/1\n",
      "100/100 [==============================] - 12s 119ms/step - loss: 0.6349\n",
      "Evaluating model on 250 random 20-way one-shot learning tasks ...\n",
      "Got an average of 15.6% accuracy for 20-way one-shot learning\n",
      "=== Training loop 82 ===\n",
      "Epoch 1/1\n",
      "100/100 [==============================] - 12s 119ms/step - loss: 0.6291\n",
      "Evaluating model on 250 random 20-way one-shot learning tasks ...\n",
      "Got an average of 14.0% accuracy for 20-way one-shot learning\n",
      "=== Training loop 83 ===\n",
      "Epoch 1/1\n",
      " 11/100 [==>...........................] - ETA: 10s - loss: 0.6180100/100 [==============================] - 12s 119ms/step - loss: 0.6284\n",
      "Evaluating model on 250 random 20-way one-shot learning tasks ...\n",
      "Got an average of 13.2% accuracy for 20-way one-shot learning\n",
      "=== Training loop 84 ===\n",
      "Epoch 1/1\n",
      "100/100 [==============================] - 12s 119ms/step - loss: 0.6352\n",
      "Evaluating model on 250 random 20-way one-shot learning tasks ...\n",
      "Got an average of 14.8% accuracy for 20-way one-shot learning\n",
      "=== Training loop 85 ===\n",
      "Epoch 1/1\n",
      "100/100 [==============================] - 12s 119ms/step - loss: 0.6364\n",
      "Evaluating model on 250 random 20-way one-shot learning tasks ...\n",
      "Got an average of 14.8% accuracy for 20-way one-shot learning\n",
      "=== Training loop 86 ===\n",
      "Epoch 1/1\n",
      " 11/100 [==>...........................] - ETA: 10s - loss: 0.6016100/100 [==============================] - 12s 119ms/step - loss: 0.6253\n",
      "Evaluating model on 250 random 20-way one-shot learning tasks ...\n",
      "Got an average of 16.8% accuracy for 20-way one-shot learning\n",
      "New best one-shot accuracy, saving model ...\n",
      "=== Training loop 87 ===\n",
      "Epoch 1/1\n",
      "100/100 [==============================] - 12s 119ms/step - loss: 0.6338\n",
      "Evaluating model on 250 random 20-way one-shot learning tasks ...\n",
      "Got an average of 12.8% accuracy for 20-way one-shot learning\n",
      "=== Training loop 88 ===\n",
      "Epoch 1/1\n",
      "100/100 [==============================] - 12s 119ms/step - loss: 0.6461\n",
      "Evaluating model on 250 random 20-way one-shot learning tasks ...\n",
      "Got an average of 12.8% accuracy for 20-way one-shot learning\n",
      "=== Training loop 89 ===\n",
      "Epoch 1/1\n",
      "100/100 [==============================] - 12s 119ms/step - loss: 0.6352\n",
      "Evaluating model on 250 random 20-way one-shot learning tasks ...\n",
      "Got an average of 15.6% accuracy for 20-way one-shot learning\n",
      "=== Training loop 90 ===\n",
      "Epoch 1/1\n",
      "100/100 [==============================] - 12s 120ms/step - loss: 0.6258\n",
      "Evaluating model on 250 random 20-way one-shot learning tasks ...\n",
      "Got an average of 16.4% accuracy for 20-way one-shot learning\n",
      "=== Training loop 91 ===\n",
      "Epoch 1/1\n",
      " 68/100 [===================>..........] - ETA: 3s - loss: 0.6258100/100 [==============================] - 12s 120ms/step - loss: 0.6246\n",
      "Evaluating model on 250 random 20-way one-shot learning tasks ...\n",
      "Got an average of 13.6% accuracy for 20-way one-shot learning\n",
      "=== Training loop 92 ===\n",
      "Epoch 1/1\n",
      "100/100 [==============================] - 12s 119ms/step - loss: 0.6367\n",
      "Evaluating model on 250 random 20-way one-shot learning tasks ...\n",
      "Got an average of 10.8% accuracy for 20-way one-shot learning\n",
      "=== Training loop 93 ===\n",
      "Epoch 1/1\n",
      "100/100 [==============================] - 12s 120ms/step - loss: 0.6382\n",
      "Evaluating model on 250 random 20-way one-shot learning tasks ...\n",
      "Got an average of 11.2% accuracy for 20-way one-shot learning\n",
      "=== Training loop 94 ===\n",
      "Epoch 1/1\n",
      " 16/100 [===>..........................] - ETA: 10s - loss: 0.6165100/100 [==============================] - 12s 120ms/step - loss: 0.6268\n",
      "Evaluating model on 250 random 20-way one-shot learning tasks ...\n",
      "Got an average of 12.4% accuracy for 20-way one-shot learning\n",
      "=== Training loop 95 ===\n",
      "Epoch 1/1\n",
      "100/100 [==============================] - 12s 120ms/step - loss: 0.6307\n",
      "Evaluating model on 250 random 20-way one-shot learning tasks ...\n",
      "Got an average of 15.2% accuracy for 20-way one-shot learning\n",
      "=== Training loop 96 ===\n",
      "Epoch 1/1\n",
      "100/100 [==============================] - 12s 120ms/step - loss: 0.6285\n",
      "Evaluating model on 250 random 20-way one-shot learning tasks ...\n",
      "Got an average of 15.6% accuracy for 20-way one-shot learning\n",
      "=== Training loop 97 ===\n",
      "Epoch 1/1\n"
     ]
    },
    {
     "name": "stdout",
     "output_type": "stream",
     "text": [
      " 12/100 [==>...........................] - ETA: 10s - loss: 0.6172100/100 [==============================] - 12s 119ms/step - loss: 0.6320\n",
      "Evaluating model on 250 random 20-way one-shot learning tasks ...\n",
      "Got an average of 12.8% accuracy for 20-way one-shot learning\n",
      "=== Training loop 98 ===\n",
      "Epoch 1/1\n",
      "100/100 [==============================] - 12s 120ms/step - loss: 0.6283\n",
      "Evaluating model on 250 random 20-way one-shot learning tasks ...\n",
      "Got an average of 12.0% accuracy for 20-way one-shot learning\n",
      "=== Training loop 99 ===\n",
      "Epoch 1/1\n",
      "100/100 [==============================] - 12s 119ms/step - loss: 0.6291\n",
      "Evaluating model on 250 random 20-way one-shot learning tasks ...\n",
      "Got an average of 14.0% accuracy for 20-way one-shot learning\n",
      "=== Training loop 100 ===\n",
      "Epoch 1/1\n",
      " 11/100 [==>...........................] - ETA: 10s - loss: 0.6016100/100 [==============================] - 12s 119ms/step - loss: 0.6350\n",
      "Evaluating model on 250 random 20-way one-shot learning tasks ...\n",
      "Got an average of 13.6% accuracy for 20-way one-shot learning\n",
      "=== Training loop 101 ===\n",
      "Epoch 1/1\n",
      "100/100 [==============================] - 12s 119ms/step - loss: 0.6276\n",
      "Evaluating model on 250 random 20-way one-shot learning tasks ...\n",
      "Got an average of 14.4% accuracy for 20-way one-shot learning\n",
      "=== Training loop 102 ===\n",
      "Epoch 1/1\n",
      "100/100 [==============================] - 12s 120ms/step - loss: 0.6302\n",
      "Evaluating model on 250 random 20-way one-shot learning tasks ...\n",
      "Got an average of 11.6% accuracy for 20-way one-shot learning\n",
      "=== Training loop 103 ===\n",
      "Epoch 1/1\n",
      " 11/100 [==>...........................] - ETA: 10s - loss: 0.6098100/100 [==============================] - 12s 119ms/step - loss: 0.6246\n",
      "Evaluating model on 250 random 20-way one-shot learning tasks ...\n",
      "Got an average of 16.8% accuracy for 20-way one-shot learning\n",
      "New best one-shot accuracy, saving model ...\n",
      "=== Training loop 104 ===\n",
      "Epoch 1/1\n",
      "100/100 [==============================] - 12s 120ms/step - loss: 0.6447\n",
      "Evaluating model on 250 random 20-way one-shot learning tasks ...\n",
      "Got an average of 10.8% accuracy for 20-way one-shot learning\n",
      "=== Training loop 105 ===\n",
      "Epoch 1/1\n",
      "100/100 [==============================] - 12s 119ms/step - loss: 0.6327\n",
      "Evaluating model on 250 random 20-way one-shot learning tasks ...\n",
      "Got an average of 15.2% accuracy for 20-way one-shot learning\n",
      "=== Training loop 106 ===\n",
      "Epoch 1/1\n",
      "100/100 [==============================] - 12s 119ms/step - loss: 0.6275\n",
      "Evaluating model on 250 random 20-way one-shot learning tasks ...\n",
      "Got an average of 14.8% accuracy for 20-way one-shot learning\n",
      "=== Training loop 107 ===\n",
      "Epoch 1/1\n",
      "100/100 [==============================] - 12s 119ms/step - loss: 0.6290\n",
      "Evaluating model on 250 random 20-way one-shot learning tasks ...\n",
      "Got an average of 14.8% accuracy for 20-way one-shot learning\n",
      "=== Training loop 108 ===\n",
      "Epoch 1/1\n",
      " 41/100 [===========>..................] - ETA: 7s - loss: 0.6326100/100 [==============================] - 12s 119ms/step - loss: 0.6354\n",
      "Evaluating model on 250 random 20-way one-shot learning tasks ...\n",
      "Got an average of 15.2% accuracy for 20-way one-shot learning\n",
      "=== Training loop 109 ===\n",
      "Epoch 1/1\n",
      "100/100 [==============================] - 12s 120ms/step - loss: 0.6356\n",
      "Evaluating model on 250 random 20-way one-shot learning tasks ...\n",
      "Got an average of 14.0% accuracy for 20-way one-shot learning\n",
      "=== Training loop 110 ===\n",
      "Epoch 1/1\n",
      "100/100 [==============================] - 12s 120ms/step - loss: 0.6333\n",
      "Evaluating model on 250 random 20-way one-shot learning tasks ...\n",
      "Got an average of 13.2% accuracy for 20-way one-shot learning\n",
      "=== Training loop 111 ===\n",
      "Epoch 1/1\n",
      " 13/100 [==>...........................] - ETA: 10s - loss: 0.6161100/100 [==============================] - 12s 120ms/step - loss: 0.6282\n",
      "Evaluating model on 250 random 20-way one-shot learning tasks ...\n",
      "Got an average of 14.4% accuracy for 20-way one-shot learning\n",
      "=== Training loop 112 ===\n",
      "Epoch 1/1\n",
      "100/100 [==============================] - 12s 120ms/step - loss: 0.6391\n",
      "Evaluating model on 250 random 20-way one-shot learning tasks ...\n",
      "Got an average of 14.0% accuracy for 20-way one-shot learning\n",
      "=== Training loop 113 ===\n",
      "Epoch 1/1\n",
      "100/100 [==============================] - 12s 120ms/step - loss: 0.6296\n",
      "Evaluating model on 250 random 20-way one-shot learning tasks ...\n",
      "Got an average of 14.0% accuracy for 20-way one-shot learning\n",
      "=== Training loop 114 ===\n",
      "Epoch 1/1\n",
      " 11/100 [==>...........................] - ETA: 10s - loss: 0.6279100/100 [==============================] - 12s 120ms/step - loss: 0.6315\n",
      "Evaluating model on 250 random 20-way one-shot learning tasks ...\n",
      "Got an average of 14.8% accuracy for 20-way one-shot learning\n",
      "=== Training loop 115 ===\n",
      "Epoch 1/1\n",
      "100/100 [==============================] - 12s 120ms/step - loss: 0.6233\n",
      "Evaluating model on 250 random 20-way one-shot learning tasks ...\n",
      "Got an average of 14.0% accuracy for 20-way one-shot learning\n",
      "=== Training loop 116 ===\n",
      "Epoch 1/1\n",
      "100/100 [==============================] - 12s 120ms/step - loss: 0.6256\n",
      "Evaluating model on 250 random 20-way one-shot learning tasks ...\n",
      "Got an average of 16.0% accuracy for 20-way one-shot learning\n",
      "=== Training loop 117 ===\n",
      "Epoch 1/1\n",
      " 11/100 [==>...........................] - ETA: 10s - loss: 0.6350100/100 [==============================] - 12s 120ms/step - loss: 0.6286\n",
      "Evaluating model on 250 random 20-way one-shot learning tasks ...\n",
      "Got an average of 14.0% accuracy for 20-way one-shot learning\n",
      "=== Training loop 118 ===\n",
      "Epoch 1/1\n",
      "100/100 [==============================] - 12s 120ms/step - loss: 0.6320\n",
      "Evaluating model on 250 random 20-way one-shot learning tasks ...\n",
      "Got an average of 12.8% accuracy for 20-way one-shot learning\n",
      "=== Training loop 119 ===\n",
      "Epoch 1/1\n",
      "100/100 [==============================] - 12s 120ms/step - loss: 0.6312\n",
      "Evaluating model on 250 random 20-way one-shot learning tasks ...\n",
      "Got an average of 15.2% accuracy for 20-way one-shot learning\n",
      "=== Training loop 120 ===\n",
      "Epoch 1/1\n",
      " 11/100 [==>...........................] - ETA: 10s - loss: 0.6441100/100 [==============================] - 12s 120ms/step - loss: 0.6252\n",
      "Evaluating model on 250 random 20-way one-shot learning tasks ...\n",
      "Got an average of 12.8% accuracy for 20-way one-shot learning\n",
      "=== Training loop 121 ===\n",
      "Epoch 1/1\n",
      "100/100 [==============================] - 12s 119ms/step - loss: 0.6223\n",
      "Evaluating model on 250 random 20-way one-shot learning tasks ...\n",
      "Got an average of 16.4% accuracy for 20-way one-shot learning\n",
      "=== Training loop 122 ===\n",
      "Epoch 1/1\n",
      "100/100 [==============================] - 12s 120ms/step - loss: 0.6321\n",
      "Evaluating model on 250 random 20-way one-shot learning tasks ...\n",
      "Got an average of 14.8% accuracy for 20-way one-shot learning\n",
      "=== Training loop 123 ===\n",
      "Epoch 1/1\n",
      " 11/100 [==>...........................] - ETA: 10s - loss: 0.6132100/100 [==============================] - 12s 120ms/step - loss: 0.6270\n",
      "Evaluating model on 250 random 20-way one-shot learning tasks ...\n",
      "Got an average of 14.4% accuracy for 20-way one-shot learning\n",
      "=== Training loop 124 ===\n",
      "Epoch 1/1\n",
      "100/100 [==============================] - 12s 119ms/step - loss: 0.6251\n",
      "Evaluating model on 250 random 20-way one-shot learning tasks ...\n",
      "Got an average of 11.6% accuracy for 20-way one-shot learning\n",
      "=== Training loop 125 ===\n",
      "Epoch 1/1\n",
      "100/100 [==============================] - 12s 120ms/step - loss: 0.6260\n",
      "Evaluating model on 250 random 20-way one-shot learning tasks ...\n",
      "Got an average of 15.6% accuracy for 20-way one-shot learning\n",
      "=== Training loop 126 ===\n",
      "Epoch 1/1\n",
      " 11/100 [==>...........................] - ETA: 10s - loss: 0.6236100/100 [==============================] - 12s 119ms/step - loss: 0.6375\n",
      "Evaluating model on 250 random 20-way one-shot learning tasks ...\n",
      "Got an average of 12.0% accuracy for 20-way one-shot learning\n",
      "=== Training loop 127 ===\n",
      "Epoch 1/1\n",
      "100/100 [==============================] - 12s 119ms/step - loss: 0.6326\n",
      "Evaluating model on 250 random 20-way one-shot learning tasks ...\n",
      "Got an average of 18.0% accuracy for 20-way one-shot learning\n",
      "New best one-shot accuracy, saving model ...\n",
      "=== Training loop 128 ===\n",
      "Epoch 1/1\n",
      "100/100 [==============================] - 12s 120ms/step - loss: 0.6130\n",
      "Evaluating model on 250 random 20-way one-shot learning tasks ...\n",
      "Got an average of 16.4% accuracy for 20-way one-shot learning\n",
      "=== Training loop 129 ===\n",
      "Epoch 1/1\n"
     ]
    },
    {
     "name": "stdout",
     "output_type": "stream",
     "text": [
      "  5/100 [>.............................] - ETA: 11s - loss: 0.6019100/100 [==============================] - 12s 119ms/step - loss: 0.6196\n",
      "Evaluating model on 250 random 20-way one-shot learning tasks ...\n",
      "Got an average of 18.0% accuracy for 20-way one-shot learning\n",
      "New best one-shot accuracy, saving model ...\n",
      "=== Training loop 130 ===\n",
      "Epoch 1/1\n",
      "100/100 [==============================] - 12s 119ms/step - loss: 0.6240\n",
      "Evaluating model on 250 random 20-way one-shot learning tasks ...\n",
      "Got an average of 17.2% accuracy for 20-way one-shot learning\n",
      "=== Training loop 131 ===\n",
      "Epoch 1/1\n",
      "100/100 [==============================] - 12s 120ms/step - loss: 0.6213\n",
      "Evaluating model on 250 random 20-way one-shot learning tasks ...\n",
      "Got an average of 16.4% accuracy for 20-way one-shot learning\n",
      "=== Training loop 132 ===\n",
      "Epoch 1/1\n",
      "100/100 [==============================] - 12s 119ms/step - loss: 0.6238\n",
      "Evaluating model on 250 random 20-way one-shot learning tasks ...\n",
      "Got an average of 14.8% accuracy for 20-way one-shot learning\n",
      "=== Training loop 133 ===\n",
      "Epoch 1/1\n",
      "100/100 [==============================] - 12s 119ms/step - loss: 0.6214\n",
      "Evaluating model on 250 random 20-way one-shot learning tasks ...\n",
      "Got an average of 14.8% accuracy for 20-way one-shot learning\n",
      "=== Training loop 134 ===\n",
      "Epoch 1/1\n",
      " 41/100 [===========>..................] - ETA: 7s - loss: 0.6351100/100 [==============================] - 12s 119ms/step - loss: 0.6279\n",
      "Evaluating model on 250 random 20-way one-shot learning tasks ...\n",
      "Got an average of 14.4% accuracy for 20-way one-shot learning\n",
      "=== Training loop 135 ===\n",
      "Epoch 1/1\n",
      "100/100 [==============================] - 12s 119ms/step - loss: 0.6321\n",
      "Evaluating model on 250 random 20-way one-shot learning tasks ...\n",
      "Got an average of 16.4% accuracy for 20-way one-shot learning\n",
      "=== Training loop 136 ===\n",
      "Epoch 1/1\n",
      "100/100 [==============================] - 12s 119ms/step - loss: 0.6182\n",
      "Evaluating model on 250 random 20-way one-shot learning tasks ...\n",
      "Got an average of 15.2% accuracy for 20-way one-shot learning\n",
      "=== Training loop 137 ===\n",
      "Epoch 1/1\n",
      " 13/100 [==>...........................] - ETA: 10s - loss: 0.6393100/100 [==============================] - 12s 120ms/step - loss: 0.6284\n",
      "Evaluating model on 250 random 20-way one-shot learning tasks ...\n",
      "Got an average of 12.4% accuracy for 20-way one-shot learning\n",
      "=== Training loop 138 ===\n",
      "Epoch 1/1\n",
      "100/100 [==============================] - 12s 119ms/step - loss: 0.6253\n",
      "Evaluating model on 250 random 20-way one-shot learning tasks ...\n",
      "Got an average of 14.0% accuracy for 20-way one-shot learning\n",
      "=== Training loop 139 ===\n",
      "Epoch 1/1\n",
      "100/100 [==============================] - 12s 119ms/step - loss: 0.6228\n",
      "Evaluating model on 250 random 20-way one-shot learning tasks ...\n",
      "Got an average of 14.8% accuracy for 20-way one-shot learning\n",
      "=== Training loop 140 ===\n",
      "Epoch 1/1\n",
      " 11/100 [==>...........................] - ETA: 10s - loss: 0.6172100/100 [==============================] - 12s 119ms/step - loss: 0.6263\n",
      "Evaluating model on 250 random 20-way one-shot learning tasks ...\n",
      "Got an average of 16.0% accuracy for 20-way one-shot learning\n",
      "=== Training loop 141 ===\n",
      "Epoch 1/1\n",
      "100/100 [==============================] - 12s 119ms/step - loss: 0.6296\n",
      "Evaluating model on 250 random 20-way one-shot learning tasks ...\n",
      "Got an average of 18.4% accuracy for 20-way one-shot learning\n",
      "New best one-shot accuracy, saving model ...\n",
      "=== Training loop 142 ===\n",
      "Epoch 1/1\n",
      "100/100 [==============================] - 12s 119ms/step - loss: 0.6282\n",
      "Evaluating model on 250 random 20-way one-shot learning tasks ...\n",
      "Got an average of 12.8% accuracy for 20-way one-shot learning\n",
      "=== Training loop 143 ===\n",
      "Epoch 1/1\n",
      "  5/100 [>.............................] - ETA: 11s - loss: 0.6351100/100 [==============================] - 12s 119ms/step - loss: 0.6297\n",
      "Evaluating model on 250 random 20-way one-shot learning tasks ...\n",
      "Got an average of 15.6% accuracy for 20-way one-shot learning\n",
      "=== Training loop 144 ===\n",
      "Epoch 1/1\n",
      "100/100 [==============================] - 12s 119ms/step - loss: 0.6219\n",
      "Evaluating model on 250 random 20-way one-shot learning tasks ...\n",
      "Got an average of 13.6% accuracy for 20-way one-shot learning\n",
      "=== Training loop 145 ===\n",
      "Epoch 1/1\n",
      "100/100 [==============================] - 12s 119ms/step - loss: 0.6342\n",
      "Evaluating model on 250 random 20-way one-shot learning tasks ...\n",
      "Got an average of 17.2% accuracy for 20-way one-shot learning\n",
      "=== Training loop 146 ===\n",
      "Epoch 1/1\n",
      " 10/100 [==>...........................] - ETA: 10s - loss: 0.6270100/100 [==============================] - 12s 119ms/step - loss: 0.6230\n",
      "Evaluating model on 250 random 20-way one-shot learning tasks ...\n",
      "Got an average of 14.4% accuracy for 20-way one-shot learning\n",
      "=== Training loop 147 ===\n",
      "Epoch 1/1\n",
      "100/100 [==============================] - 12s 120ms/step - loss: 0.6147\n",
      "Evaluating model on 250 random 20-way one-shot learning tasks ...\n",
      "Got an average of 10.8% accuracy for 20-way one-shot learning\n",
      "=== Training loop 148 ===\n",
      "Epoch 1/1\n",
      "100/100 [==============================] - 12s 119ms/step - loss: 0.6290\n",
      "Evaluating model on 250 random 20-way one-shot learning tasks ...\n",
      "Got an average of 13.2% accuracy for 20-way one-shot learning\n",
      "=== Training loop 149 ===\n",
      "Epoch 1/1\n",
      " 11/100 [==>...........................] - ETA: 10s - loss: 0.6162100/100 [==============================] - 12s 119ms/step - loss: 0.6227\n",
      "Evaluating model on 250 random 20-way one-shot learning tasks ...\n",
      "Got an average of 16.8% accuracy for 20-way one-shot learning\n",
      "=== Training loop 150 ===\n",
      "Epoch 1/1\n",
      "100/100 [==============================] - 12s 120ms/step - loss: 0.6227\n",
      "Evaluating model on 250 random 20-way one-shot learning tasks ...\n",
      "Got an average of 11.2% accuracy for 20-way one-shot learning\n",
      "=== Training loop 151 ===\n",
      "Epoch 1/1\n",
      "100/100 [==============================] - 12s 119ms/step - loss: 0.6287\n",
      "Evaluating model on 250 random 20-way one-shot learning tasks ...\n",
      "Got an average of 13.6% accuracy for 20-way one-shot learning\n",
      "=== Training loop 152 ===\n",
      "Epoch 1/1\n",
      " 11/100 [==>...........................] - ETA: 10s - loss: 0.6215100/100 [==============================] - 12s 120ms/step - loss: 0.6241\n",
      "Evaluating model on 250 random 20-way one-shot learning tasks ...\n",
      "Got an average of 13.2% accuracy for 20-way one-shot learning\n",
      "=== Training loop 153 ===\n",
      "Epoch 1/1\n",
      "100/100 [==============================] - 12s 119ms/step - loss: 0.6221\n",
      "Evaluating model on 250 random 20-way one-shot learning tasks ...\n",
      "Got an average of 13.6% accuracy for 20-way one-shot learning\n",
      "=== Training loop 154 ===\n",
      "Epoch 1/1\n",
      "100/100 [==============================] - 12s 119ms/step - loss: 0.6220\n",
      "Evaluating model on 250 random 20-way one-shot learning tasks ...\n",
      "Got an average of 15.2% accuracy for 20-way one-shot learning\n",
      "=== Training loop 155 ===\n",
      "Epoch 1/1\n",
      " 11/100 [==>...........................] - ETA: 10s - loss: 0.6023100/100 [==============================] - 12s 120ms/step - loss: 0.6196\n",
      "Evaluating model on 250 random 20-way one-shot learning tasks ...\n",
      "Got an average of 15.2% accuracy for 20-way one-shot learning\n",
      "=== Training loop 156 ===\n",
      "Epoch 1/1\n",
      "100/100 [==============================] - 12s 120ms/step - loss: 0.6300\n",
      "Evaluating model on 250 random 20-way one-shot learning tasks ...\n",
      "Got an average of 11.2% accuracy for 20-way one-shot learning\n",
      "=== Training loop 157 ===\n",
      "Epoch 1/1\n",
      "100/100 [==============================] - 12s 119ms/step - loss: 0.6223\n",
      "Evaluating model on 250 random 20-way one-shot learning tasks ...\n",
      "Got an average of 12.4% accuracy for 20-way one-shot learning\n",
      "=== Training loop 158 ===\n",
      "Epoch 1/1\n",
      " 11/100 [==>...........................] - ETA: 10s - loss: 0.6047100/100 [==============================] - 12s 119ms/step - loss: 0.6269\n",
      "Evaluating model on 250 random 20-way one-shot learning tasks ...\n",
      "Got an average of 17.2% accuracy for 20-way one-shot learning\n",
      "=== Training loop 159 ===\n",
      "Epoch 1/1\n",
      "100/100 [==============================] - 12s 119ms/step - loss: 0.6297\n",
      "Evaluating model on 250 random 20-way one-shot learning tasks ...\n",
      "Got an average of 14.0% accuracy for 20-way one-shot learning\n",
      "=== Training loop 160 ===\n",
      "Epoch 1/1\n",
      "100/100 [==============================] - 12s 119ms/step - loss: 0.6195\n",
      "Evaluating model on 250 random 20-way one-shot learning tasks ...\n",
      "Got an average of 14.8% accuracy for 20-way one-shot learning\n",
      "=== Training loop 161 ===\n",
      "Epoch 1/1\n"
     ]
    },
    {
     "name": "stdout",
     "output_type": "stream",
     "text": [
      " 11/100 [==>...........................] - ETA: 10s - loss: 0.5989100/100 [==============================] - 12s 120ms/step - loss: 0.6128\n",
      "Evaluating model on 250 random 20-way one-shot learning tasks ...\n",
      "Got an average of 16.0% accuracy for 20-way one-shot learning\n",
      "=== Training loop 162 ===\n",
      "Epoch 1/1\n",
      "100/100 [==============================] - 12s 119ms/step - loss: 0.6244\n",
      "Evaluating model on 250 random 20-way one-shot learning tasks ...\n",
      "Got an average of 12.4% accuracy for 20-way one-shot learning\n",
      "=== Training loop 163 ===\n",
      "Epoch 1/1\n",
      "100/100 [==============================] - 12s 120ms/step - loss: 0.6179\n",
      "Evaluating model on 250 random 20-way one-shot learning tasks ...\n",
      "Got an average of 18.8% accuracy for 20-way one-shot learning\n",
      "New best one-shot accuracy, saving model ...\n",
      "=== Training loop 164 ===\n",
      "Epoch 1/1\n",
      " 10/100 [==>...........................] - ETA: 10s - loss: 0.6229100/100 [==============================] - 12s 119ms/step - loss: 0.6293\n",
      "Evaluating model on 250 random 20-way one-shot learning tasks ...\n",
      "Got an average of 12.0% accuracy for 20-way one-shot learning\n",
      "=== Training loop 165 ===\n",
      "Epoch 1/1\n",
      "100/100 [==============================] - 12s 120ms/step - loss: 0.6146\n",
      "Evaluating model on 250 random 20-way one-shot learning tasks ...\n",
      "Got an average of 16.0% accuracy for 20-way one-shot learning\n",
      "=== Training loop 166 ===\n",
      "Epoch 1/1\n",
      "100/100 [==============================] - 12s 120ms/step - loss: 0.6225\n",
      "Evaluating model on 250 random 20-way one-shot learning tasks ...\n",
      "Got an average of 18.0% accuracy for 20-way one-shot learning\n",
      "=== Training loop 167 ===\n",
      "Epoch 1/1\n",
      " 11/100 [==>...........................] - ETA: 10s - loss: 0.6026100/100 [==============================] - 12s 119ms/step - loss: 0.6231\n",
      "Evaluating model on 250 random 20-way one-shot learning tasks ...\n",
      "Got an average of 15.2% accuracy for 20-way one-shot learning\n",
      "=== Training loop 168 ===\n",
      "Epoch 1/1\n",
      "100/100 [==============================] - 12s 120ms/step - loss: 0.6130\n",
      "Evaluating model on 250 random 20-way one-shot learning tasks ...\n",
      "Got an average of 16.4% accuracy for 20-way one-shot learning\n",
      "=== Training loop 169 ===\n",
      "Epoch 1/1\n",
      "100/100 [==============================] - 12s 120ms/step - loss: 0.6200\n",
      "Evaluating model on 250 random 20-way one-shot learning tasks ...\n",
      "Got an average of 13.2% accuracy for 20-way one-shot learning\n",
      "=== Training loop 170 ===\n",
      "Epoch 1/1\n",
      " 11/100 [==>...........................] - ETA: 10s - loss: 0.6141100/100 [==============================] - 12s 120ms/step - loss: 0.6249\n",
      "Evaluating model on 250 random 20-way one-shot learning tasks ...\n",
      "Got an average of 14.8% accuracy for 20-way one-shot learning\n",
      "=== Training loop 171 ===\n",
      "Epoch 1/1\n",
      "100/100 [==============================] - 12s 120ms/step - loss: 0.6222\n",
      "Evaluating model on 250 random 20-way one-shot learning tasks ...\n",
      "Got an average of 13.6% accuracy for 20-way one-shot learning\n",
      "=== Training loop 172 ===\n",
      "Epoch 1/1\n",
      "100/100 [==============================] - 12s 119ms/step - loss: 0.6334\n",
      "Evaluating model on 250 random 20-way one-shot learning tasks ...\n",
      "Got an average of 17.6% accuracy for 20-way one-shot learning\n",
      "=== Training loop 173 ===\n",
      "Epoch 1/1\n",
      " 11/100 [==>...........................] - ETA: 10s - loss: 0.6133100/100 [==============================] - 12s 119ms/step - loss: 0.6116\n",
      "Evaluating model on 250 random 20-way one-shot learning tasks ...\n",
      "Got an average of 19.2% accuracy for 20-way one-shot learning\n",
      "New best one-shot accuracy, saving model ...\n",
      "=== Training loop 174 ===\n",
      "Epoch 1/1\n",
      "100/100 [==============================] - 12s 120ms/step - loss: 0.6187\n",
      "Evaluating model on 250 random 20-way one-shot learning tasks ...\n",
      "Got an average of 12.0% accuracy for 20-way one-shot learning\n",
      "=== Training loop 175 ===\n",
      "Epoch 1/1\n",
      "100/100 [==============================] - 12s 120ms/step - loss: 0.6196\n",
      "Evaluating model on 250 random 20-way one-shot learning tasks ...\n",
      "Got an average of 15.6% accuracy for 20-way one-shot learning\n",
      "=== Training loop 176 ===\n",
      "Epoch 1/1\n",
      "100/100 [==============================] - 12s 120ms/step - loss: 0.6320\n",
      "Evaluating model on 250 random 20-way one-shot learning tasks ...\n",
      "Got an average of 17.2% accuracy for 20-way one-shot learning\n",
      "=== Training loop 177 ===\n",
      "Epoch 1/1\n",
      "100/100 [==============================] - 12s 120ms/step - loss: 0.6075\n",
      "Evaluating model on 250 random 20-way one-shot learning tasks ...\n",
      "Got an average of 14.4% accuracy for 20-way one-shot learning\n",
      "=== Training loop 178 ===\n",
      "Epoch 1/1\n",
      " 41/100 [===========>..................] - ETA: 7s - loss: 0.6180100/100 [==============================] - 12s 120ms/step - loss: 0.6272\n",
      "Evaluating model on 250 random 20-way one-shot learning tasks ...\n",
      "Got an average of 16.0% accuracy for 20-way one-shot learning\n",
      "=== Training loop 179 ===\n",
      "Epoch 1/1\n",
      "100/100 [==============================] - 12s 120ms/step - loss: 0.6194\n",
      "Evaluating model on 250 random 20-way one-shot learning tasks ...\n",
      "Got an average of 11.6% accuracy for 20-way one-shot learning\n",
      "=== Training loop 180 ===\n",
      "Epoch 1/1\n",
      "100/100 [==============================] - 12s 119ms/step - loss: 0.6281\n",
      "Evaluating model on 250 random 20-way one-shot learning tasks ...\n",
      "Got an average of 18.4% accuracy for 20-way one-shot learning\n",
      "=== Training loop 181 ===\n",
      "Epoch 1/1\n",
      " 13/100 [==>...........................] - ETA: 10s - loss: 0.6243100/100 [==============================] - 12s 120ms/step - loss: 0.6144\n",
      "Evaluating model on 250 random 20-way one-shot learning tasks ...\n",
      "Got an average of 15.2% accuracy for 20-way one-shot learning\n",
      "=== Training loop 182 ===\n",
      "Epoch 1/1\n",
      "100/100 [==============================] - 12s 120ms/step - loss: 0.6250\n",
      "Evaluating model on 250 random 20-way one-shot learning tasks ...\n",
      "Got an average of 12.0% accuracy for 20-way one-shot learning\n",
      "=== Training loop 183 ===\n",
      "Epoch 1/1\n",
      "100/100 [==============================] - 12s 119ms/step - loss: 0.6250\n",
      "Evaluating model on 250 random 20-way one-shot learning tasks ...\n",
      "Got an average of 14.0% accuracy for 20-way one-shot learning\n",
      "=== Training loop 184 ===\n",
      "Epoch 1/1\n",
      " 11/100 [==>...........................] - ETA: 10s - loss: 0.6343100/100 [==============================] - 12s 120ms/step - loss: 0.6207\n",
      "Evaluating model on 250 random 20-way one-shot learning tasks ...\n",
      "Got an average of 14.0% accuracy for 20-way one-shot learning\n",
      "=== Training loop 185 ===\n",
      "Epoch 1/1\n",
      "100/100 [==============================] - 12s 119ms/step - loss: 0.6218\n",
      "Evaluating model on 250 random 20-way one-shot learning tasks ...\n",
      "Got an average of 16.8% accuracy for 20-way one-shot learning\n",
      "=== Training loop 186 ===\n",
      "Epoch 1/1\n",
      "100/100 [==============================] - 12s 119ms/step - loss: 0.6243\n",
      "Evaluating model on 250 random 20-way one-shot learning tasks ...\n",
      "Got an average of 16.4% accuracy for 20-way one-shot learning\n",
      "=== Training loop 187 ===\n",
      "Epoch 1/1\n",
      " 11/100 [==>...........................] - ETA: 10s - loss: 0.6286100/100 [==============================] - 12s 120ms/step - loss: 0.6216\n",
      "Evaluating model on 250 random 20-way one-shot learning tasks ...\n",
      "Got an average of 16.0% accuracy for 20-way one-shot learning\n",
      "=== Training loop 188 ===\n",
      "Epoch 1/1\n",
      "100/100 [==============================] - 12s 119ms/step - loss: 0.6225\n",
      "Evaluating model on 250 random 20-way one-shot learning tasks ...\n",
      "Got an average of 11.6% accuracy for 20-way one-shot learning\n",
      "=== Training loop 189 ===\n",
      "Epoch 1/1\n",
      "100/100 [==============================] - 12s 119ms/step - loss: 0.6208\n",
      "Evaluating model on 250 random 20-way one-shot learning tasks ...\n",
      "Got an average of 19.6% accuracy for 20-way one-shot learning\n",
      "New best one-shot accuracy, saving model ...\n",
      "=== Training loop 190 ===\n",
      "Epoch 1/1\n",
      " 10/100 [==>...........................] - ETA: 10s - loss: 0.6052100/100 [==============================] - 12s 120ms/step - loss: 0.6218\n",
      "Evaluating model on 250 random 20-way one-shot learning tasks ...\n",
      "Got an average of 17.6% accuracy for 20-way one-shot learning\n",
      "=== Training loop 191 ===\n",
      "Epoch 1/1\n",
      "100/100 [==============================] - 12s 119ms/step - loss: 0.6363\n",
      "Evaluating model on 250 random 20-way one-shot learning tasks ...\n",
      "Got an average of 14.4% accuracy for 20-way one-shot learning\n",
      "=== Training loop 192 ===\n",
      "Epoch 1/1\n",
      "100/100 [==============================] - 12s 119ms/step - loss: 0.6268\n",
      "Evaluating model on 250 random 20-way one-shot learning tasks ...\n",
      "Got an average of 17.2% accuracy for 20-way one-shot learning\n",
      "=== Training loop 193 ===\n",
      "Epoch 1/1\n"
     ]
    },
    {
     "name": "stdout",
     "output_type": "stream",
     "text": [
      " 11/100 [==>...........................] - ETA: 10s - loss: 0.6174100/100 [==============================] - 12s 119ms/step - loss: 0.6182\n",
      "Evaluating model on 250 random 20-way one-shot learning tasks ...\n",
      "Got an average of 16.4% accuracy for 20-way one-shot learning\n",
      "=== Training loop 194 ===\n",
      "Epoch 1/1\n",
      "100/100 [==============================] - 12s 119ms/step - loss: 0.6243\n",
      "Evaluating model on 250 random 20-way one-shot learning tasks ...\n",
      "Got an average of 15.2% accuracy for 20-way one-shot learning\n",
      "=== Training loop 195 ===\n",
      "Epoch 1/1\n",
      "100/100 [==============================] - 12s 119ms/step - loss: 0.6150\n",
      "Evaluating model on 250 random 20-way one-shot learning tasks ...\n",
      "Got an average of 18.4% accuracy for 20-way one-shot learning\n",
      "=== Training loop 196 ===\n",
      "Epoch 1/1\n",
      " 11/100 [==>...........................] - ETA: 10s - loss: 0.6023100/100 [==============================] - 12s 119ms/step - loss: 0.6119\n",
      "Evaluating model on 250 random 20-way one-shot learning tasks ...\n",
      "Got an average of 15.6% accuracy for 20-way one-shot learning\n",
      "=== Training loop 197 ===\n",
      "Epoch 1/1\n",
      "100/100 [==============================] - 12s 119ms/step - loss: 0.6203\n",
      "Evaluating model on 250 random 20-way one-shot learning tasks ...\n",
      "Got an average of 12.8% accuracy for 20-way one-shot learning\n",
      "=== Training loop 198 ===\n",
      "Epoch 1/1\n",
      "100/100 [==============================] - 12s 119ms/step - loss: 0.6270\n",
      "Evaluating model on 250 random 20-way one-shot learning tasks ...\n",
      "Got an average of 15.2% accuracy for 20-way one-shot learning\n",
      "=== Training loop 199 ===\n",
      "Epoch 1/1\n",
      " 11/100 [==>...........................] - ETA: 10s - loss: 0.6084100/100 [==============================] - 12s 119ms/step - loss: 0.6226\n",
      "Evaluating model on 250 random 20-way one-shot learning tasks ...\n",
      "Got an average of 18.8% accuracy for 20-way one-shot learning\n",
      "=== Training loop 200 ===\n",
      "Epoch 1/1\n",
      "100/100 [==============================] - 12s 119ms/step - loss: 0.6134\n",
      "Evaluating model on 250 random 20-way one-shot learning tasks ...\n",
      "Got an average of 13.6% accuracy for 20-way one-shot learning\n"
     ]
    }
   ],
   "source": [
    "loops = 200\n",
    "best_acc = 0\n",
    "for i in range(loops):\n",
    "    print(\"=== Training loop {} ===\".format(i+1))\n",
    "    train(siamese_net, x_train_80)\n",
    "    test_acc = test_oneshot(siamese_net, x_train_20)\n",
    "    if test_acc >= best_acc:\n",
    "        print(\"New best one-shot accuracy, saving model ...\")\n",
    "        #siamese_net.save(os.path.join(\"models\", \"siamese_omniglot.h5\"))\n",
    "        best_acc = test_acc"
   ]
  },
  {
   "cell_type": "markdown",
   "metadata": {
    "colab_type": "text",
    "id": "MaivGyk_AVTY"
   },
   "source": [
    "***\n",
    "\n",
    "**b)** Briefly motivate your model's architecture, as well as its performance. What accuracy would random guessing achieve (on average)?\n",
    "\n",
    "**Answer:**"
   ]
  },
  {
   "cell_type": "markdown",
   "metadata": {
    "colab_type": "text",
    "id": "lQVd8vHrAYEX"
   },
   "source": [
    "*=== write your answer here ===*"
   ]
  },
  {
   "cell_type": "markdown",
   "metadata": {
    "colab_type": "text",
    "id": "COiAqXWDAgCe"
   },
   "source": [
    "***\n",
    "\n",
    "**c)** Compare the performance of your Siamese network for Cifar-100 to the Siamese network from Practical 4 for Omniglot. Name three fundamental differences between the Cifar-100 and Omniglot datasets. How do these differences influence the difference in one-shot accuracy?\n",
    "\n",
    "**Answer:**"
   ]
  },
  {
   "cell_type": "markdown",
   "metadata": {
    "colab_type": "text",
    "id": "IIHkoQ0PBWuB"
   },
   "source": [
    "*=== write your answer here ===*\n",
    "\n",
    "***1: Type of images: greyscale shapes (one shape = one meaning) vs. versatile RGB images (various shapes can mean same thing). 2: Omniglot has fewer examples per class than Cifar-100. 3: Omniglot has way more classes than Cifar-100.\n",
    "The first difference outweighs the other two, making one-shot learning on Cifar-100 much harder.***"
   ]
  },
  {
   "cell_type": "markdown",
   "metadata": {
    "colab_type": "text",
    "id": "VWpFF_5-Bf4B"
   },
   "source": [
    "***\n",
    "\n",
    "### Task 1.2: One-shot learning with neural codes\n",
    "**a)**\n",
    "* Train a CNN classifier on the first 80 classes of Cifar-100. Make sure it achieves at least 40% classification accuracy on those 80 classes (use the test set to validate this accuracy).\n",
    "* Then use neural codes from one of the later hidden layers of the CNN with L2-distance to evaluate one-shot learning accuracy for the remaining 20 classes of Cifar-100. I.e. for a given one-shot task, obtain neural codes for the test image as well as the support set. Then pick the image from the support set that is closest (in L2-distance) to the test image as your one-shot prediction."
   ]
  },
  {
   "cell_type": "code",
   "execution_count": 0,
   "metadata": {
    "colab": {
     "autoexec": {
      "startup": false,
      "wait_interval": 0
     }
    },
    "colab_type": "code",
    "collapsed": true,
    "id": "DbQfN8KOFOFH"
   },
   "outputs": [],
   "source": [
    "# reshape data for training classifier\n",
    "x_train_80 = x_train_80.reshape(-1, img_rows, img_cols, chns)\n",
    "x_test_80 = x_test_80.reshape(-1, img_rows, img_cols, chns)\n",
    "\n",
    "# transform 80 labels to one-hot\n",
    "y_train_80 = to_categorical(y_train_80)\n",
    "y_test_80 = to_categorical(y_test_80)"
   ]
  },
  {
   "cell_type": "code",
   "execution_count": 30,
   "metadata": {
    "colab": {
     "autoexec": {
      "startup": false,
      "wait_interval": 0
     },
     "base_uri": "https://localhost:8080/",
     "height": 538,
     "output_extras": [
      {
       "item_id": 1
      }
     ]
    },
    "colab_type": "code",
    "executionInfo": {
     "elapsed": 744,
     "status": "ok",
     "timestamp": 1521033469245,
     "user": {
      "displayName": "Loek Tonnaer",
      "photoUrl": "https://lh3.googleusercontent.com/a/default-user=s128",
      "userId": "113849499377556963886"
     },
     "user_tz": -60
    },
    "id": "4k5yfAqoqHL2",
    "outputId": "d7fdb3d0-27e9-47b6-e409-8fc21bb57cca"
   },
   "outputs": [
    {
     "name": "stdout",
     "output_type": "stream",
     "text": [
      "_________________________________________________________________\n",
      "Layer (type)                 Output Shape              Param #   \n",
      "=================================================================\n",
      "conv2d_9 (Conv2D)            (None, 30, 30, 32)        896       \n",
      "_________________________________________________________________\n",
      "batch_normalization_12 (Batc (None, 30, 30, 32)        128       \n",
      "_________________________________________________________________\n",
      "dropout_12 (Dropout)         (None, 30, 30, 32)        0         \n",
      "_________________________________________________________________\n",
      "conv2d_10 (Conv2D)           (None, 28, 28, 64)        18496     \n",
      "_________________________________________________________________\n",
      "max_pooling2d_5 (MaxPooling2 (None, 14, 14, 64)        0         \n",
      "_________________________________________________________________\n",
      "batch_normalization_13 (Batc (None, 14, 14, 64)        256       \n",
      "_________________________________________________________________\n",
      "dropout_13 (Dropout)         (None, 14, 14, 64)        0         \n",
      "_________________________________________________________________\n",
      "flatten_5 (Flatten)          (None, 12544)             0         \n",
      "_________________________________________________________________\n",
      "neural_codes (Dense)         (None, 128)               1605760   \n",
      "_________________________________________________________________\n",
      "batch_normalization_14 (Batc (None, 128)               512       \n",
      "_________________________________________________________________\n",
      "dropout_14 (Dropout)         (None, 128)               0         \n",
      "_________________________________________________________________\n",
      "dense_6 (Dense)              (None, 80)                10320     \n",
      "=================================================================\n",
      "Total params: 1,636,368\n",
      "Trainable params: 1,635,920\n",
      "Non-trainable params: 448\n",
      "_________________________________________________________________\n"
     ]
    }
   ],
   "source": [
    "# cnn architecture\n",
    "cnn = Sequential()\n",
    "\n",
    "cnn.add(Conv2D(32, kernel_size=(3, 3), activation='relu', input_shape=input_shape))\n",
    "cnn.add(BatchNormalization())\n",
    "cnn.add(Dropout(0.5))\n",
    "cnn.add(Conv2D(64, kernel_size=(3, 3), activation='relu'))\n",
    "cnn.add(MaxPooling2D(pool_size=(2, 2)))\n",
    "cnn.add(BatchNormalization())\n",
    "cnn.add(Dropout(0.5))\n",
    "\n",
    "cnn.add(Flatten())\n",
    "cnn.add(Dense(128, activation='relu', name=\"neural_codes\"))\n",
    "cnn.add(BatchNormalization())\n",
    "cnn.add(Dropout(0.5))\n",
    "cnn.add(Dense(80, activation='softmax'))\n",
    "\n",
    "cnn.summary()\n",
    "\n",
    "cnn.compile(optimizer=\"adam\", loss=\"categorical_crossentropy\", metrics=[\"accuracy\"])"
   ]
  },
  {
   "cell_type": "code",
   "execution_count": 31,
   "metadata": {
    "colab": {
     "autoexec": {
      "startup": false,
      "wait_interval": 0
     },
     "base_uri": "https://localhost:8080/",
     "height": 706,
     "output_extras": [
      {
       "item_id": 114
      },
      {
       "item_id": 211
      },
      {
       "item_id": 320
      },
      {
       "item_id": 426
      },
      {
       "item_id": 529
      },
      {
       "item_id": 633
      },
      {
       "item_id": 737
      },
      {
       "item_id": 874
      },
      {
       "item_id": 986
      },
      {
       "item_id": 992
      },
      {
       "item_id": 993
      }
     ]
    },
    "colab_type": "code",
    "executionInfo": {
     "elapsed": 266347,
     "status": "ok",
     "timestamp": 1521033741234,
     "user": {
      "displayName": "Loek Tonnaer",
      "photoUrl": "https://lh3.googleusercontent.com/a/default-user=s128",
      "userId": "113849499377556963886"
     },
     "user_tz": -60
    },
    "id": "zDRBMA5YniHW",
    "outputId": "ab6bb1a1-04c8-4e80-ec21-28d94ed19d95"
   },
   "outputs": [
    {
     "name": "stdout",
     "output_type": "stream",
     "text": [
      "Epoch 1/20\n",
      "40000/40000 [==============================] - 14s 349us/step - loss: 3.8909 - acc: 0.1201\n",
      "Epoch 2/20\n",
      "40000/40000 [==============================] - 13s 330us/step - loss: 3.2270 - acc: 0.2146\n",
      "Epoch 3/20\n",
      "24500/40000 [=================>............] - ETA: 5s - loss: 2.9487 - acc: 0.262940000/40000 [==============================] - 13s 328us/step - loss: 2.9193 - acc: 0.2691\n",
      "Epoch 4/20\n",
      "40000/40000 [==============================] - 13s 332us/step - loss: 2.7035 - acc: 0.3135\n",
      "Epoch 5/20\n",
      "34300/40000 [========================>.....] - ETA: 1s - loss: 2.5532 - acc: 0.342640000/40000 [==============================] - 13s 331us/step - loss: 2.5579 - acc: 0.3418\n",
      "Epoch 6/20\n",
      "40000/40000 [==============================] - 13s 331us/step - loss: 2.4335 - acc: 0.3677\n",
      "Epoch 7/20\n",
      "38300/40000 [===========================>..] - ETA: 0s - loss: 2.3449 - acc: 0.383640000/40000 [==============================] - 13s 329us/step - loss: 2.3481 - acc: 0.3834\n",
      "Epoch 8/20\n",
      "40000/40000 [==============================] - 13s 331us/step - loss: 2.2839 - acc: 0.4001\n",
      "Epoch 9/20\n",
      "39500/40000 [============================>.] - ETA: 0s - loss: 2.2235 - acc: 0.410640000/40000 [==============================] - 13s 332us/step - loss: 2.2239 - acc: 0.4103\n",
      "Epoch 10/20\n",
      "40000/40000 [==============================] - 13s 331us/step - loss: 2.1589 - acc: 0.4238\n",
      "Epoch 11/20\n",
      "39100/40000 [============================>.] - ETA: 0s - loss: 2.1108 - acc: 0.434340000/40000 [==============================] - 13s 332us/step - loss: 2.1110 - acc: 0.4343\n",
      "Epoch 12/20\n",
      "40000/40000 [==============================] - 13s 332us/step - loss: 2.0754 - acc: 0.4456\n",
      "Epoch 13/20\n",
      "39300/40000 [============================>.] - ETA: 0s - loss: 2.0421 - acc: 0.448640000/40000 [==============================] - 13s 331us/step - loss: 2.0413 - acc: 0.4487\n",
      "Epoch 14/20\n",
      "40000/40000 [==============================] - 13s 330us/step - loss: 1.9982 - acc: 0.4597\n",
      "Epoch 15/20\n",
      "40000/40000 [==============================] - 13s 330us/step - loss: 1.9669 - acc: 0.4675\n",
      "Epoch 16/20\n",
      "  100/40000 [..............................] - ETA: 12s - loss: 2.1636 - acc: 0.410040000/40000 [==============================] - 13s 329us/step - loss: 1.9284 - acc: 0.4777\n",
      "Epoch 17/20\n",
      "40000/40000 [==============================] - 13s 331us/step - loss: 1.8982 - acc: 0.4778\n",
      "Epoch 18/20\n",
      "27100/40000 [===================>..........] - ETA: 4s - loss: 1.8534 - acc: 0.490540000/40000 [==============================] - 13s 327us/step - loss: 1.8815 - acc: 0.4843\n",
      "Epoch 19/20\n",
      "40000/40000 [==============================] - 13s 329us/step - loss: 1.8437 - acc: 0.4939\n",
      "Epoch 20/20\n",
      "36100/40000 [==========================>...] - ETA: 1s - loss: 1.8250 - acc: 0.497940000/40000 [==============================] - 13s 328us/step - loss: 1.8221 - acc: 0.4982\n"
     ]
    },
    {
     "data": {
      "text/plain": [
       "<keras.callbacks.History at 0x7fad72fa2e10>"
      ]
     },
     "execution_count": 31,
     "metadata": {
      "tags": []
     },
     "output_type": "execute_result"
    }
   ],
   "source": [
    "batch_size = 100\n",
    "epochs = 20\n",
    "\n",
    "cnn.fit(x_train_80, y_train_80,\n",
    "        batch_size=batch_size,\n",
    "        epochs=epochs)"
   ]
  },
  {
   "cell_type": "code",
   "execution_count": 32,
   "metadata": {
    "colab": {
     "autoexec": {
      "startup": false,
      "wait_interval": 0
     },
     "base_uri": "https://localhost:8080/",
     "height": 51,
     "output_extras": [
      {
       "item_id": 1
      }
     ]
    },
    "colab_type": "code",
    "executionInfo": {
     "elapsed": 2023,
     "status": "ok",
     "timestamp": 1521033774616,
     "user": {
      "displayName": "Loek Tonnaer",
      "photoUrl": "https://lh3.googleusercontent.com/a/default-user=s128",
      "userId": "113849499377556963886"
     },
     "user_tz": -60
    },
    "id": "JsMOdun6pukv",
    "outputId": "eacad9aa-11c7-4557-fa3c-eca5c4f8d440"
   },
   "outputs": [
    {
     "name": "stdout",
     "output_type": "stream",
     "text": [
      "Test loss: 2.139175796866417\n",
      "Test accuracy: 0.44375\n"
     ]
    }
   ],
   "source": [
    "loss, accuracy = cnn.evaluate(x_test_80, y_test_80, verbose=0)\n",
    "\n",
    "print('Test loss:', loss)\n",
    "print('Test accuracy:', accuracy)"
   ]
  },
  {
   "cell_type": "code",
   "execution_count": 0,
   "metadata": {
    "colab": {
     "autoexec": {
      "startup": false,
      "wait_interval": 0
     }
    },
    "colab_type": "code",
    "collapsed": true,
    "id": "Y8ahHDkgrZlm"
   },
   "outputs": [],
   "source": [
    "cnn_nc = Model(inputs=cnn.input, outputs=cnn.get_layer(\"neural_codes\").output)\n",
    "\n",
    "def test_oneshot_nc(model_nc, X, N=20, k=250, verbose=True):\n",
    "    \"\"\"Test average N-way oneshot learning accuracy for L2-distance between neural codes over k one-shot tasks.\"\"\"\n",
    "    n_correct = 0\n",
    "    if verbose:\n",
    "        print(\"Evaluating model on {} random {}-way one-shot learning tasks ...\".format(k, N))\n",
    "    for i in range(k):\n",
    "        inputs, targets = make_oneshot_task(N, X)\n",
    "        # this part of the code is new:\n",
    "        test_image = inputs[0]\n",
    "        support_set = inputs[1]\n",
    "        test_image_nc = model_nc.predict(test_image)\n",
    "        support_set_nc = model_nc.predict(support_set)\n",
    "        mse = np.mean((test_image_nc - support_set_nc)**2, axis=1)  # mean squared error is proportional to L2 distance\n",
    "        # back to the old code:\n",
    "        if np.argmin(mse) == np.argmax(targets):\n",
    "            n_correct += 1\n",
    "    percent_correct = (100.0*n_correct / k)\n",
    "    if verbose:\n",
    "        print(\"Got an average of {}% accuracy for {}-way one-shot learning\".format(percent_correct, N))\n",
    "    return percent_correct"
   ]
  },
  {
   "cell_type": "code",
   "execution_count": 69,
   "metadata": {
    "colab": {
     "autoexec": {
      "startup": false,
      "wait_interval": 0
     },
     "base_uri": "https://localhost:8080/",
     "height": 67,
     "output_extras": [
      {
       "item_id": 2
      },
      {
       "item_id": 3
      }
     ]
    },
    "colab_type": "code",
    "executionInfo": {
     "elapsed": 3048,
     "status": "ok",
     "timestamp": 1521041806094,
     "user": {
      "displayName": "Loek Tonnaer",
      "photoUrl": "https://lh3.googleusercontent.com/a/default-user=s128",
      "userId": "113849499377556963886"
     },
     "user_tz": -60
    },
    "id": "unVXLO4TJ6HC",
    "outputId": "87b01e1b-2fd4-4171-d8ca-1396634b49ce"
   },
   "outputs": [
    {
     "name": "stdout",
     "output_type": "stream",
     "text": [
      "Evaluating model on 250 random 20-way one-shot learning tasks ...\n",
      "Got an average of 20.8% accuracy for 20-way one-shot learning\n"
     ]
    },
    {
     "data": {
      "text/plain": [
       "20.8"
      ]
     },
     "execution_count": 69,
     "metadata": {
      "tags": []
     },
     "output_type": "execute_result"
    }
   ],
   "source": [
    "test_oneshot_nc(cnn_nc, x_test_20)"
   ]
  },
  {
   "cell_type": "markdown",
   "metadata": {
    "colab_type": "text",
    "id": "M1BDzdPAz26B"
   },
   "source": [
    "***\n",
    "\n",
    "**b)** Briefly motivate your CNN architecture, and discuss the difference in one-shot accuracy between the Siamese network approach and the CNN neural codes approach.\n",
    "\n",
    "**Answer:**"
   ]
  },
  {
   "cell_type": "markdown",
   "metadata": {
    "colab_type": "text",
    "id": "oRpVm956FR8P"
   },
   "source": [
    "*=== write your answer here ===*"
   ]
  }
 ],
 "metadata": {
  "accelerator": "GPU",
  "colab": {
   "collapsed_sections": [],
   "default_view": {},
   "name": "Assignment 3 question 1.ipynb",
   "provenance": [],
   "version": "0.3.2",
   "views": {}
  },
  "kernelspec": {
   "display_name": "Python 3",
   "language": "python",
   "name": "python3"
  },
  "language_info": {
   "codemirror_mode": {
    "name": "ipython",
    "version": 3
   },
   "file_extension": ".py",
   "mimetype": "text/x-python",
   "name": "python",
   "nbconvert_exporter": "python",
   "pygments_lexer": "ipython3",
   "version": "3.5.2"
  }
 },
 "nbformat": 4,
 "nbformat_minor": 1
}
